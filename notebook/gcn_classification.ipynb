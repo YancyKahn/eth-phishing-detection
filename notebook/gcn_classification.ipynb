{
 "cells": [
  {
   "cell_type": "code",
   "execution_count": null,
   "metadata": {},
   "outputs": [],
   "source": [
    "import pandas as pd \n",
    "import os \n",
    "import warnings\n",
    "import networkx as nx \n",
    "\n",
    "warnings.filterwarnings('ignore')"
   ]
  },
  {
   "cell_type": "code",
   "execution_count": null,
   "metadata": {},
   "outputs": [],
   "source": [
    "pwd = os.getcwd()"
   ]
  },
  {
   "cell_type": "code",
   "execution_count": null,
   "metadata": {},
   "outputs": [],
   "source": [
    "# convert data to trans2vec format\n",
    "data = {}\n",
    "label = {}\n",
    "\n",
    "for filename in os.listdir(pwd + '/../original_data/钓鱼一阶节点/'):\n",
    "    if filename.endswith('.csv'):\n",
    "        df = pd.read_csv(pwd + '/../original_data/钓鱼一阶节点/' + filename)\n",
    "        G = nx.from_pandas_edgelist(df, source='From', target='To', edge_attr=('Value', 'TimeStamp'))\n",
    "        addr = filename.split('.')[0]\n",
    "        data[addr] = G\n",
    "        label[addr] = 0\n",
    "\n",
    "for filename in os.listdir(pwd + '/../original_data/非钓鱼一阶节点/'):\n",
    "    if filename.endswith('.csv'):\n",
    "        df = pd.read_csv(pwd + '/../original_data/非钓鱼一阶节点/' + filename)\n",
    "        G = nx.from_pandas_edgelist(df, source='From', target='To', edge_attr=('Value', 'TimeStamp'))\n",
    "        addr = filename.split('.')[0]\n",
    "        data[addr] = G\n",
    "        label[addr] = 1"
   ]
  },
  {
   "cell_type": "code",
   "execution_count": null,
   "metadata": {},
   "outputs": [],
   "source": []
  }
 ],
 "metadata": {
  "kernelspec": {
   "display_name": "Python 3.9.12 ('base')",
   "language": "python",
   "name": "python3"
  },
  "language_info": {
   "name": "python",
   "version": "3.9.12"
  },
  "orig_nbformat": 4,
  "vscode": {
   "interpreter": {
    "hash": "974733804d668d3057bb8fd4c530c0513fe1498e5c89d4dcb2a8e567590995c4"
   }
  }
 },
 "nbformat": 4,
 "nbformat_minor": 2
}
