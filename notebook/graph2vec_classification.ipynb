{
 "cells": [
  {
   "cell_type": "markdown",
   "metadata": {},
   "source": [
    "### Graph2Vec\n",
    "Yuan Z, Yuan Q, Wu J. Phishing detection on Ethereum via learning representation of transaction subgraphs[C]//International Conference on Blockchain and Trustworthy Systems. Springer, Singapore, 2020: 178-191.\n",
    "\n",
    "https://xblock.pro/#/paper/91"
   ]
  },
  {
   "cell_type": "code",
   "execution_count": 2,
   "metadata": {},
   "outputs": [],
   "source": [
    "import pandas as pd "
   ]
  },
  {
   "cell_type": "code",
   "execution_count": null,
   "metadata": {},
   "outputs": [],
   "source": []
  }
 ],
 "metadata": {
  "kernelspec": {
   "display_name": "Python 3.9.12 ('base')",
   "language": "python",
   "name": "python3"
  },
  "language_info": {
   "codemirror_mode": {
    "name": "ipython",
    "version": 3
   },
   "file_extension": ".py",
   "mimetype": "text/x-python",
   "name": "python",
   "nbconvert_exporter": "python",
   "pygments_lexer": "ipython3",
   "version": "3.9.12"
  },
  "orig_nbformat": 4,
  "vscode": {
   "interpreter": {
    "hash": "974733804d668d3057bb8fd4c530c0513fe1498e5c89d4dcb2a8e567590995c4"
   }
  }
 },
 "nbformat": 4,
 "nbformat_minor": 2
}
