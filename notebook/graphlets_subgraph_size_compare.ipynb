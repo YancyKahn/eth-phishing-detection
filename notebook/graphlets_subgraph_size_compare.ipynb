{
 "cells": [
  {
   "cell_type": "code",
   "execution_count": 5,
   "metadata": {},
   "outputs": [],
   "source": [
    "import pandas as pd \n",
    "\n",
    "# 设置当前位置为项目根目录\n",
    "import os\n",
    "os.chdir('..')\n",
    "import src.utils.preprocess as preprocess\n",
    "import src.utils.graphlets as graphlets\n",
    "import src.utils.shapelets as shapelets"
   ]
  },
  {
   "cell_type": "markdown",
   "metadata": {},
   "source": [
    "### 对于不同大小的子图采样取值，对结果的影响"
   ]
  },
  {
   "cell_type": "code",
   "execution_count": 6,
   "metadata": {},
   "outputs": [],
   "source": [
    "phishing_data_path = r'X:\\Datasets\\Blockchain\\xblock.pro\\eth-phishing-detection\\original_data\\open\\钓鱼一阶节点'\n",
    "normal_data_path = r'X:\\Datasets\\Blockchain\\xblock.pro\\eth-phishing-detection\\original_data\\open\\非钓鱼一阶节点'"
   ]
  },
  {
   "cell_type": "code",
   "execution_count": 7,
   "metadata": {},
   "outputs": [
    {
     "name": "stdout",
     "output_type": "stream",
     "text": [
      "Preproocess: 0xffde23396d57e10abf58bd929bb1e856c7718218.csv, 1659/1660\n",
      "phishing:  (1660, 13) 1660 (1660, 52)\n",
      "Preproocess: 0xfffc21bc8b74fd9f9b86be03d7a35afdcda0f0fc.csv, 1699/1700\n",
      "normal:  (1700, 13) 1700 (1700, 52)\n"
     ]
    }
   ],
   "source": [
    "phishing_node_features, phishing_node_graphs, phishing_node_tx = preprocess.load_data_1d(phishing_data_path, 0, isetherscan=False)\n",
    "print(\"phishing: \", phishing_node_features.shape, len(phishing_node_graphs), phishing_node_tx.shape)\n",
    "\n",
    "normal_node_features, normal_node_graphs, normal_node_tx = preprocess.load_data_1d(normal_data_path, 1, isetherscan=False)\n",
    "print(\"normal: \", normal_node_features.shape, len(normal_node_graphs), normal_node_tx.shape)"
   ]
  },
  {
   "cell_type": "code",
   "execution_count": 8,
   "metadata": {},
   "outputs": [],
   "source": [
    "num_walks = [2, 4, 8, 6, 10]\n",
    "walk_length = [5, 10, 15, 20, 25, 30, 35, 40, 45, 50]\n",
    "restart_prob = [0.5, 0.55, 0.6, 0.65, 0.7, 0.75, 0.8, 0.85, 0.9, 0.95]"
   ]
  },
  {
   "cell_type": "code",
   "execution_count": 15,
   "metadata": {},
   "outputs": [],
   "source": [
    "import xgboost as xgb\n",
    "from sklearn.model_selection import train_test_split\n",
    "from sklearn.metrics import precision_score, recall_score, f1_score\n",
    "from sklearn.metrics import classification_report"
   ]
  },
  {
   "cell_type": "code",
   "execution_count": 16,
   "metadata": {},
   "outputs": [
    {
     "name": "stdout",
     "output_type": "stream",
     "text": [
      "wl:  5\n",
      "Process(graphlets): 0xffde23396d57e10abf58bd929bb1e856c7718218, 1659/1660\n",
      "Process(graphlets): 0xfffc21bc8b74fd9f9b86be03d7a35afdcda0f0fc, 1699/1700\n",
      "phishing:  1660 normal:  1700\n",
      "node_graphlets:  (3360, 16)\n",
      "              precision    recall  f1-score   support\n",
      "\n",
      "           0       0.77      0.75      0.76       338\n",
      "           1       0.75      0.77      0.76       334\n",
      "\n",
      "    accuracy                           0.76       672\n",
      "   macro avg       0.76      0.76      0.76       672\n",
      "weighted avg       0.76      0.76      0.76       672\n",
      "\n",
      "wl:  10\n",
      "Process(graphlets): 0xffde23396d57e10abf58bd929bb1e856c7718218, 1659/1660\n",
      "Process(graphlets): 0xfffc21bc8b74fd9f9b86be03d7a35afdcda0f0fc, 1699/1700\n",
      "phishing:  1660 normal:  1700\n",
      "node_graphlets:  (3360, 16)\n",
      "              precision    recall  f1-score   support\n",
      "\n",
      "           0       0.77      0.76      0.77       338\n",
      "           1       0.76      0.78      0.77       334\n",
      "\n",
      "    accuracy                           0.77       672\n",
      "   macro avg       0.77      0.77      0.77       672\n",
      "weighted avg       0.77      0.77      0.77       672\n",
      "\n",
      "wl:  15\n",
      "Process(graphlets): 0x3ea41dc576ccf70706aeece363833a26d9529c38, 419/1660\r"
     ]
    },
    {
     "ename": "KeyboardInterrupt",
     "evalue": "",
     "output_type": "error",
     "traceback": [
      "\u001b[1;31m---------------------------------------------------------------------------\u001b[0m",
      "\u001b[1;31mKeyboardInterrupt\u001b[0m                         Traceback (most recent call last)",
      "\u001b[1;32mx:\\Datasets\\Blockchain\\xblock.pro\\eth-phishing-detection\\notebook\\graphlets_subgraph_size_compare.ipynb Cell 7\u001b[0m in \u001b[0;36m<cell line: 6>\u001b[1;34m()\u001b[0m\n\u001b[0;32m      <a href='vscode-notebook-cell:/x%3A/Datasets/Blockchain/xblock.pro/eth-phishing-detection/notebook/graphlets_subgraph_size_compare.ipynb#W5sZmlsZQ%3D%3D?line=5'>6</a>\u001b[0m \u001b[39mfor\u001b[39;00m wl \u001b[39min\u001b[39;00m walk_length:\n\u001b[0;32m      <a href='vscode-notebook-cell:/x%3A/Datasets/Blockchain/xblock.pro/eth-phishing-detection/notebook/graphlets_subgraph_size_compare.ipynb#W5sZmlsZQ%3D%3D?line=6'>7</a>\u001b[0m     \u001b[39mprint\u001b[39m(\u001b[39m\"\u001b[39m\u001b[39mwl: \u001b[39m\u001b[39m\"\u001b[39m, wl)\n\u001b[1;32m----> <a href='vscode-notebook-cell:/x%3A/Datasets/Blockchain/xblock.pro/eth-phishing-detection/notebook/graphlets_subgraph_size_compare.ipynb#W5sZmlsZQ%3D%3D?line=7'>8</a>\u001b[0m     phishing_node_graphlets \u001b[39m=\u001b[39m graphlets\u001b[39m.\u001b[39;49mextract_graphlets(phishing_node_graphs, \u001b[39m10\u001b[39;49m, wl, \u001b[39m0.8\u001b[39;49m, \u001b[39m0\u001b[39;49m)\n\u001b[0;32m      <a href='vscode-notebook-cell:/x%3A/Datasets/Blockchain/xblock.pro/eth-phishing-detection/notebook/graphlets_subgraph_size_compare.ipynb#W5sZmlsZQ%3D%3D?line=8'>9</a>\u001b[0m     normal_node_graphlets \u001b[39m=\u001b[39m graphlets\u001b[39m.\u001b[39mextract_graphlets(normal_node_graphs, \u001b[39m10\u001b[39m, wl, \u001b[39m0.8\u001b[39m, \u001b[39m1\u001b[39m)\n\u001b[0;32m     <a href='vscode-notebook-cell:/x%3A/Datasets/Blockchain/xblock.pro/eth-phishing-detection/notebook/graphlets_subgraph_size_compare.ipynb#W5sZmlsZQ%3D%3D?line=9'>10</a>\u001b[0m     \u001b[39mprint\u001b[39m(\u001b[39m\"\u001b[39m\u001b[39mphishing: \u001b[39m\u001b[39m\"\u001b[39m, \u001b[39mlen\u001b[39m(phishing_node_graphlets), \u001b[39m\"\u001b[39m\u001b[39mnormal: \u001b[39m\u001b[39m\"\u001b[39m, \u001b[39mlen\u001b[39m(normal_node_graphlets))\n",
      "File \u001b[1;32mx:\\Datasets\\Blockchain\\xblock.pro\\eth-phishing-detection\\src\\utils\\graphlets.py:83\u001b[0m, in \u001b[0;36mextract_graphlets\u001b[1;34m(node_graphs, num_walks, walk_length, restart_prob, label)\u001b[0m\n\u001b[0;32m     81\u001b[0m \u001b[39mfor\u001b[39;00m walk \u001b[39min\u001b[39;00m walks:\n\u001b[0;32m     82\u001b[0m     \u001b[39mfor\u001b[39;00m motif \u001b[39min\u001b[39;00m motifs:\n\u001b[1;32m---> 83\u001b[0m         \u001b[39mfor\u001b[39;00m subgraph \u001b[39min\u001b[39;00m nx\u001b[39m.\u001b[39malgorithms\u001b[39m.\u001b[39misomorphism\u001b[39m.\u001b[39mGraphMatcher(walk, motifs[motif])\u001b[39m.\u001b[39msubgraph_isomorphisms_iter():\n\u001b[0;32m     84\u001b[0m             motif_features[key][motif] \u001b[39m+\u001b[39m\u001b[39m=\u001b[39m \u001b[39m1\u001b[39m\n\u001b[0;32m     85\u001b[0m             \u001b[39m# 仅对motif1进行再计算, 引入边权\u001b[39;00m\n",
      "File \u001b[1;32mc:\\Users\\YangXikang\\Tools\\Anaconda3\\envs\\blockchain-work\\lib\\site-packages\\networkx\\algorithms\\isomorphism\\isomorphvf2.py:384\u001b[0m, in \u001b[0;36mGraphMatcher.subgraph_isomorphisms_iter\u001b[1;34m(self)\u001b[0m\n\u001b[0;32m    382\u001b[0m \u001b[39mself\u001b[39m\u001b[39m.\u001b[39mtest \u001b[39m=\u001b[39m \u001b[39m\"\u001b[39m\u001b[39msubgraph\u001b[39m\u001b[39m\"\u001b[39m\n\u001b[0;32m    383\u001b[0m \u001b[39mself\u001b[39m\u001b[39m.\u001b[39minitialize()\n\u001b[1;32m--> 384\u001b[0m \u001b[39myield from\u001b[39;00m \u001b[39mself\u001b[39m\u001b[39m.\u001b[39mmatch()\n",
      "File \u001b[1;32mc:\\Users\\YangXikang\\Tools\\Anaconda3\\envs\\blockchain-work\\lib\\site-packages\\networkx\\algorithms\\isomorphism\\isomorphvf2.py:316\u001b[0m, in \u001b[0;36mGraphMatcher.match\u001b[1;34m(self)\u001b[0m\n\u001b[0;32m    313\u001b[0m \u001b[39mif\u001b[39;00m \u001b[39mself\u001b[39m\u001b[39m.\u001b[39msemantic_feasibility(G1_node, G2_node):\n\u001b[0;32m    314\u001b[0m     \u001b[39m# Recursive call, adding the feasible state.\u001b[39;00m\n\u001b[0;32m    315\u001b[0m     newstate \u001b[39m=\u001b[39m \u001b[39mself\u001b[39m\u001b[39m.\u001b[39mstate\u001b[39m.\u001b[39m\u001b[39m__class__\u001b[39m(\u001b[39mself\u001b[39m, G1_node, G2_node)\n\u001b[1;32m--> 316\u001b[0m     \u001b[39myield from\u001b[39;00m \u001b[39mself\u001b[39m\u001b[39m.\u001b[39mmatch()\n\u001b[0;32m    318\u001b[0m     \u001b[39m# restore data structures\u001b[39;00m\n\u001b[0;32m    319\u001b[0m     newstate\u001b[39m.\u001b[39mrestore()\n",
      "File \u001b[1;32mc:\\Users\\YangXikang\\Tools\\Anaconda3\\envs\\blockchain-work\\lib\\site-packages\\networkx\\algorithms\\isomorphism\\isomorphvf2.py:316\u001b[0m, in \u001b[0;36mGraphMatcher.match\u001b[1;34m(self)\u001b[0m\n\u001b[0;32m    313\u001b[0m \u001b[39mif\u001b[39;00m \u001b[39mself\u001b[39m\u001b[39m.\u001b[39msemantic_feasibility(G1_node, G2_node):\n\u001b[0;32m    314\u001b[0m     \u001b[39m# Recursive call, adding the feasible state.\u001b[39;00m\n\u001b[0;32m    315\u001b[0m     newstate \u001b[39m=\u001b[39m \u001b[39mself\u001b[39m\u001b[39m.\u001b[39mstate\u001b[39m.\u001b[39m\u001b[39m__class__\u001b[39m(\u001b[39mself\u001b[39m, G1_node, G2_node)\n\u001b[1;32m--> 316\u001b[0m     \u001b[39myield from\u001b[39;00m \u001b[39mself\u001b[39m\u001b[39m.\u001b[39mmatch()\n\u001b[0;32m    318\u001b[0m     \u001b[39m# restore data structures\u001b[39;00m\n\u001b[0;32m    319\u001b[0m     newstate\u001b[39m.\u001b[39mrestore()\n",
      "File \u001b[1;32mc:\\Users\\YangXikang\\Tools\\Anaconda3\\envs\\blockchain-work\\lib\\site-packages\\networkx\\algorithms\\isomorphism\\isomorphvf2.py:312\u001b[0m, in \u001b[0;36mGraphMatcher.match\u001b[1;34m(self)\u001b[0m\n\u001b[0;32m    310\u001b[0m \u001b[39melse\u001b[39;00m:\n\u001b[0;32m    311\u001b[0m     \u001b[39mfor\u001b[39;00m G1_node, G2_node \u001b[39min\u001b[39;00m \u001b[39mself\u001b[39m\u001b[39m.\u001b[39mcandidate_pairs_iter():\n\u001b[1;32m--> 312\u001b[0m         \u001b[39mif\u001b[39;00m \u001b[39mself\u001b[39;49m\u001b[39m.\u001b[39;49msyntactic_feasibility(G1_node, G2_node):\n\u001b[0;32m    313\u001b[0m             \u001b[39mif\u001b[39;00m \u001b[39mself\u001b[39m\u001b[39m.\u001b[39msemantic_feasibility(G1_node, G2_node):\n\u001b[0;32m    314\u001b[0m                 \u001b[39m# Recursive call, adding the feasible state.\u001b[39;00m\n\u001b[0;32m    315\u001b[0m                 newstate \u001b[39m=\u001b[39m \u001b[39mself\u001b[39m\u001b[39m.\u001b[39mstate\u001b[39m.\u001b[39m\u001b[39m__class__\u001b[39m(\u001b[39mself\u001b[39m, G1_node, G2_node)\n",
      "\u001b[1;31mKeyboardInterrupt\u001b[0m: "
     ]
    }
   ],
   "source": [
    "# num_walks = 10, restart_prob = 0.8\n",
    "wl_precision = []\n",
    "wl_recall = []\n",
    "wl_f1 = []\n",
    "\n",
    "for wl in walk_length:\n",
    "    print(\"wl: \", wl)\n",
    "    phishing_node_graphlets = graphlets.extract_graphlets(phishing_node_graphs, 10, wl, 0.8, 0)\n",
    "    normal_node_graphlets = graphlets.extract_graphlets(normal_node_graphs, 10, wl, 0.8, 1)\n",
    "    print(\"phishing: \", len(phishing_node_graphlets), \"normal: \", len(normal_node_graphlets))\n",
    "\n",
    "    # 合并数据\n",
    "    node_graphlets = pd.concat([phishing_node_graphlets, normal_node_graphlets], axis=0)\n",
    "    print(\"node_graphlets: \", node_graphlets.shape)\n",
    "\n",
    "    # 划分数据集\n",
    "    # 去除address列\n",
    "    X_train, X_test, y_train, y_test = train_test_split(node_graphlets.drop(['label', 'address'], axis=1), node_graphlets['label'], test_size=0.2, random_state=0)\n",
    "\n",
    "    # 训练模型\n",
    "    model = xgb.XGBClassifier()\n",
    "    model.fit(X_train, y_train)\n",
    "\n",
    "    # 预测\n",
    "    y_pred = model.predict(X_test)\n",
    "\n",
    "    # 评估\n",
    "    res = classification_report(y_test, y_pred, digits=4, output_dict=True)\n",
    "    wl_precision.append(res['0']['precision'])\n",
    "    wl_recall.append(res['0']['recall'])\n",
    "    wl_f1.append(res['0']['f1-score'])\n",
    "\n",
    "    print(\"precision: \", res['0']['precision'])\n",
    "    print(\"recall: \", res['0']['recall'])\n",
    "    print(\"f1-score: \", res['0']['f1-score'])\n",
    "\n",
    "\n",
    "print(\"wl_precision: \", wl_precision)\n",
    "print(\"wl_recall: \", wl_recall)\n",
    "print(\"wl_f1: \", wl_f1)"
   ]
  },
  {
   "cell_type": "code",
   "execution_count": null,
   "metadata": {},
   "outputs": [],
   "source": []
  }
 ],
 "metadata": {
  "kernelspec": {
   "display_name": "Python 3.8.13 ('blockchain-work')",
   "language": "python",
   "name": "python3"
  },
  "language_info": {
   "codemirror_mode": {
    "name": "ipython",
    "version": 3
   },
   "file_extension": ".py",
   "mimetype": "text/x-python",
   "name": "python",
   "nbconvert_exporter": "python",
   "pygments_lexer": "ipython3",
   "version": "3.8.13"
  },
  "orig_nbformat": 4,
  "vscode": {
   "interpreter": {
    "hash": "c1cba5e5a97c5f7d0d5488a0a811a4b3b7206ad8e3ca955e8a2331ec0040d37d"
   }
  }
 },
 "nbformat": 4,
 "nbformat_minor": 2
}
