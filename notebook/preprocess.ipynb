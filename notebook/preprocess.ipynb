{
 "cells": [
  {
   "cell_type": "code",
   "execution_count": 28,
   "metadata": {},
   "outputs": [],
   "source": [
    "import pandas as pd \n",
    "import os "
   ]
  },
  {
   "cell_type": "code",
   "execution_count": 29,
   "metadata": {},
   "outputs": [
    {
     "name": "stdout",
     "output_type": "stream",
     "text": [
      "x:\\Datasets\\Blockchain\\xblock.pro\\eth-phishing-detection\\notebook\n"
     ]
    }
   ],
   "source": [
    "pwd = os.getcwd()\n",
    "print(pwd)"
   ]
  },
  {
   "cell_type": "code",
   "execution_count": 30,
   "metadata": {},
   "outputs": [
    {
     "name": "stdout",
     "output_type": "stream",
     "text": [
      "Phish account:  191059\n",
      "Phish edges:  326985\n"
     ]
    }
   ],
   "source": [
    "# Phish account\n",
    "N_phish = 0\n",
    "N_normal = 0\n",
    "E_phish = 0\n",
    "E_normal = 0\n",
    "\n",
    "account_phish = 0\n",
    "account_normal = 0\n",
    "\n",
    "base_path = r'X:\\Datasets\\Blockchain\\xblock.pro\\eth-phishing-detection\\original_data\\etherscan\\1d'\n",
    "\n",
    "for file in os.listdir(base_path + '\\phish-hack'):\n",
    "    if file.endswith('.csv'):\n",
    "        account_phish += 1\n",
    "        try:\n",
    "            df = pd.read_csv(os.path.join(base_path + '\\phish-hack', file))\n",
    "            E_phish += len(df)\n",
    "            N_phish += len(set(df['from'].tolist() + df['to'].tolist()))\n",
    "        except:\n",
    "            pass\n",
    "\n",
    "print('Phish account: ', N_phish)\n",
    "print('Phish edges: ', E_phish)\n"
   ]
  },
  {
   "cell_type": "code",
   "execution_count": 31,
   "metadata": {},
   "outputs": [
    {
     "name": "stdout",
     "output_type": "stream",
     "text": [
      "Normal account:  2307893\n",
      "Normal edges:  7380874\n"
     ]
    }
   ],
   "source": [
    "for file in os.listdir(base_path + '\\\\normal'):\n",
    "    if file.endswith('.csv'):\n",
    "        account_normal += 1\n",
    "        try:\n",
    "            df = pd.read_csv(os.path.join(base_path + '\\\\normal', file))\n",
    "            E_normal += len(df)\n",
    "            N_normal += len(set(df['from'].tolist() + df['to'].tolist()))\n",
    "        except:\n",
    "            pass\n",
    "\n",
    "print('Normal account: ', N_normal)\n",
    "print('Normal edges: ', E_normal)"
   ]
  },
  {
   "cell_type": "code",
   "execution_count": 32,
   "metadata": {},
   "outputs": [
    {
     "name": "stdout",
     "output_type": "stream",
     "text": [
      "Normal account:  2378847\n",
      "Normal edges:  7548949\n"
     ]
    }
   ],
   "source": [
    "base_path = r'X:\\Datasets\\Blockchain\\xblock.pro\\eth-phishing-detection\\original_data\\open'\n",
    "\n",
    "for file in os.listdir(base_path + '\\\\非钓鱼一阶节点'):\n",
    "    if file.endswith('.csv'):\n",
    "        account_normal += 1\n",
    "        try:\n",
    "            df = pd.read_csv(os.path.join(base_path + '\\\\非钓鱼一阶节点', file))\n",
    "            E_normal += len(df)\n",
    "            N_normal += len(set(df['From'].tolist() + df['To'].tolist()))\n",
    "        except:\n",
    "            pass\n",
    "\n",
    "print('Normal account: ', N_normal)\n",
    "print('Normal edges: ', E_normal)"
   ]
  },
  {
   "cell_type": "code",
   "execution_count": 33,
   "metadata": {},
   "outputs": [
    {
     "name": "stdout",
     "output_type": "stream",
     "text": [
      "Total account:  2569906\n",
      "Total edges:  7875934\n"
     ]
    }
   ],
   "source": [
    "N = N_phish + N_normal\n",
    "E = E_phish + E_normal\n",
    "\n",
    "print('Total account: ', N)\n",
    "print('Total edges: ', E)"
   ]
  },
  {
   "cell_type": "code",
   "execution_count": 34,
   "metadata": {},
   "outputs": [
    {
     "name": "stdout",
     "output_type": "stream",
     "text": [
      "Phish account:  5672\n",
      "Normal account:  4258\n"
     ]
    }
   ],
   "source": [
    "print('Phish account: ', account_phish)\n",
    "print('Normal account: ', account_normal)"
   ]
  },
  {
   "cell_type": "code",
   "execution_count": 35,
   "metadata": {},
   "outputs": [
    {
     "name": "stdout",
     "output_type": "stream",
     "text": [
      "Phish account:  41342\n",
      "Phish edges:  54016\n"
     ]
    }
   ],
   "source": [
    "# Phish account\n",
    "N_phish = 0\n",
    "N_normal = 0\n",
    "E_phish = 0\n",
    "E_normal = 0\n",
    "\n",
    "account_phish = 0\n",
    "account_normal = 0\n",
    "\n",
    "base_path = r'X:\\Datasets\\Blockchain\\xblock.pro\\eth-phishing-detection\\original_data\\open'\n",
    "\n",
    "for file in os.listdir(base_path + '\\钓鱼一阶节点'):\n",
    "    if file.endswith('.csv'):\n",
    "        account_phish += 1\n",
    "        try:\n",
    "            df = pd.read_csv(os.path.join(base_path + '\\钓鱼一阶节点', file))\n",
    "            E_phish += len(df)\n",
    "            N_phish += len(set(df['From'].tolist() + df['To'].tolist()))\n",
    "        except:\n",
    "            pass\n",
    "\n",
    "print('Phish account: ', N_phish)\n",
    "print('Phish edges: ', E_phish)\n"
   ]
  },
  {
   "cell_type": "code",
   "execution_count": 36,
   "metadata": {},
   "outputs": [
    {
     "name": "stdout",
     "output_type": "stream",
     "text": [
      "Normal account:  70954\n",
      "Normal edges:  168075\n"
     ]
    }
   ],
   "source": [
    "base_path = r'X:\\Datasets\\Blockchain\\xblock.pro\\eth-phishing-detection\\original_data\\open'\n",
    "\n",
    "for file in os.listdir(base_path + '\\\\非钓鱼一阶节点'):\n",
    "    if file.endswith('.csv'):\n",
    "        account_normal += 1\n",
    "        try:\n",
    "            df = pd.read_csv(os.path.join(base_path + '\\\\非钓鱼一阶节点', file))\n",
    "            E_normal += len(df)\n",
    "            N_normal += len(set(df['From'].tolist() + df['To'].tolist()))\n",
    "        except:\n",
    "            pass\n",
    "\n",
    "print('Normal account: ', N_normal)\n",
    "print('Normal edges: ', E_normal)"
   ]
  },
  {
   "cell_type": "code",
   "execution_count": 37,
   "metadata": {},
   "outputs": [
    {
     "name": "stdout",
     "output_type": "stream",
     "text": [
      "Phish account:  1660\n",
      "Normal account:  1700\n"
     ]
    }
   ],
   "source": [
    "print('Phish account: ', account_phish)\n",
    "print('Normal account: ', account_normal)"
   ]
  },
  {
   "cell_type": "code",
   "execution_count": null,
   "metadata": {},
   "outputs": [],
   "source": []
  }
 ],
 "metadata": {
  "kernelspec": {
   "display_name": "Python 3.8.13 ('blockchain-work')",
   "language": "python",
   "name": "python3"
  },
  "language_info": {
   "codemirror_mode": {
    "name": "ipython",
    "version": 3
   },
   "file_extension": ".py",
   "mimetype": "text/x-python",
   "name": "python",
   "nbconvert_exporter": "python",
   "pygments_lexer": "ipython3",
   "version": "3.8.13"
  },
  "orig_nbformat": 4,
  "vscode": {
   "interpreter": {
    "hash": "c1cba5e5a97c5f7d0d5488a0a811a4b3b7206ad8e3ca955e8a2331ec0040d37d"
   }
  }
 },
 "nbformat": 4,
 "nbformat_minor": 2
}
