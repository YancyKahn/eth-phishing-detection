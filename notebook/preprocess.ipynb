{
 "cells": [
  {
   "cell_type": "code",
   "execution_count": 2,
   "metadata": {},
   "outputs": [],
   "source": [
    "import pandas as pd \n",
    "import os "
   ]
  },
  {
   "cell_type": "code",
   "execution_count": 3,
   "metadata": {},
   "outputs": [
    {
     "name": "stdout",
     "output_type": "stream",
     "text": [
      "x:\\Datasets\\Blockchain\\xblock.pro\\Phishing\n"
     ]
    }
   ],
   "source": [
    "pwd = os.getcwd()\n",
    "print(pwd)"
   ]
  },
  {
   "cell_type": "code",
   "execution_count": 4,
   "metadata": {},
   "outputs": [],
   "source": [
    "result = pd.DataFrame()\n",
    "for file in os.listdir(pwd + '/钓鱼一阶节点/'):\n",
    "    if file.endswith(\".csv\"):\n",
    "        df = pd.read_csv(pwd + '/钓鱼一阶节点/' + file)\n",
    "        df = df.drop(columns=['Unnamed: 0'])\n",
    "        address = file.split('.')[0]\n",
    "        item = {}\n",
    "        item['address'] = address\n",
    "        # 统计每个地址的交易次数\n",
    "        item['count'] = len(df)\n",
    "        # 统计To列为address的交易次数\n",
    "        item['to_count'] = len(df[df['To'] == address])\n",
    "        # 统计From列为address的交易次数\n",
    "        item['from_count'] = len(df[df['From'] == address])\n",
    "        # 统计所有的地址\n",
    "        item['all_address'] = len(set(df['From'].tolist() + df['To'].tolist())) - 1\n",
    "        # 统计每个地址的平均交易次数\n",
    "        item['all_address_avg_count'] = item['count'] / item['all_address']\n",
    "\n",
    "        result = pd.concat([result, pd.DataFrame(item, index=[0])], axis=0)\n",
    "        "
   ]
  },
  {
   "cell_type": "code",
   "execution_count": 5,
   "metadata": {},
   "outputs": [
    {
     "data": {
      "text/html": [
       "<div>\n",
       "<style scoped>\n",
       "    .dataframe tbody tr th:only-of-type {\n",
       "        vertical-align: middle;\n",
       "    }\n",
       "\n",
       "    .dataframe tbody tr th {\n",
       "        vertical-align: top;\n",
       "    }\n",
       "\n",
       "    .dataframe thead th {\n",
       "        text-align: right;\n",
       "    }\n",
       "</style>\n",
       "<table border=\"1\" class=\"dataframe\">\n",
       "  <thead>\n",
       "    <tr style=\"text-align: right;\">\n",
       "      <th></th>\n",
       "      <th>address</th>\n",
       "      <th>count</th>\n",
       "      <th>to_count</th>\n",
       "      <th>from_count</th>\n",
       "      <th>all_address</th>\n",
       "      <th>all_address_avg_count</th>\n",
       "    </tr>\n",
       "  </thead>\n",
       "  <tbody>\n",
       "    <tr>\n",
       "      <th>0</th>\n",
       "      <td>0x002bf459dc58584d58886169ea0e80f3ca95ffaf</td>\n",
       "      <td>4</td>\n",
       "      <td>2</td>\n",
       "      <td>2</td>\n",
       "      <td>3</td>\n",
       "      <td>1.333333</td>\n",
       "    </tr>\n",
       "    <tr>\n",
       "      <th>0</th>\n",
       "      <td>0x002f0c8119c16d310342d869ca8bf6ace34d9c39</td>\n",
       "      <td>5</td>\n",
       "      <td>3</td>\n",
       "      <td>2</td>\n",
       "      <td>4</td>\n",
       "      <td>1.250000</td>\n",
       "    </tr>\n",
       "    <tr>\n",
       "      <th>0</th>\n",
       "      <td>0x0059b14e35dab1b4eee1e2926c7a5660da66f747</td>\n",
       "      <td>101</td>\n",
       "      <td>98</td>\n",
       "      <td>3</td>\n",
       "      <td>92</td>\n",
       "      <td>1.097826</td>\n",
       "    </tr>\n",
       "    <tr>\n",
       "      <th>0</th>\n",
       "      <td>0x0061fb5485dff4bb85c078dca80d19119224d97e</td>\n",
       "      <td>12</td>\n",
       "      <td>11</td>\n",
       "      <td>1</td>\n",
       "      <td>11</td>\n",
       "      <td>1.090909</td>\n",
       "    </tr>\n",
       "    <tr>\n",
       "      <th>0</th>\n",
       "      <td>0x00650a784ee109797ba8c05f3496bdbf2b2b7a1c</td>\n",
       "      <td>3</td>\n",
       "      <td>1</td>\n",
       "      <td>2</td>\n",
       "      <td>3</td>\n",
       "      <td>1.000000</td>\n",
       "    </tr>\n",
       "  </tbody>\n",
       "</table>\n",
       "</div>"
      ],
      "text/plain": [
       "                                      address  count  to_count  from_count  \\\n",
       "0  0x002bf459dc58584d58886169ea0e80f3ca95ffaf      4         2           2   \n",
       "0  0x002f0c8119c16d310342d869ca8bf6ace34d9c39      5         3           2   \n",
       "0  0x0059b14e35dab1b4eee1e2926c7a5660da66f747    101        98           3   \n",
       "0  0x0061fb5485dff4bb85c078dca80d19119224d97e     12        11           1   \n",
       "0  0x00650a784ee109797ba8c05f3496bdbf2b2b7a1c      3         1           2   \n",
       "\n",
       "   all_address  all_address_avg_count  \n",
       "0            3               1.333333  \n",
       "0            4               1.250000  \n",
       "0           92               1.097826  \n",
       "0           11               1.090909  \n",
       "0            3               1.000000  "
      ]
     },
     "execution_count": 5,
     "metadata": {},
     "output_type": "execute_result"
    }
   ],
   "source": [
    "result.head()"
   ]
  },
  {
   "cell_type": "code",
   "execution_count": 6,
   "metadata": {},
   "outputs": [
    {
     "data": {
      "text/html": [
       "<div>\n",
       "<style scoped>\n",
       "    .dataframe tbody tr th:only-of-type {\n",
       "        vertical-align: middle;\n",
       "    }\n",
       "\n",
       "    .dataframe tbody tr th {\n",
       "        vertical-align: top;\n",
       "    }\n",
       "\n",
       "    .dataframe thead th {\n",
       "        text-align: right;\n",
       "    }\n",
       "</style>\n",
       "<table border=\"1\" class=\"dataframe\">\n",
       "  <thead>\n",
       "    <tr style=\"text-align: right;\">\n",
       "      <th></th>\n",
       "      <th>count</th>\n",
       "      <th>to_count</th>\n",
       "      <th>from_count</th>\n",
       "      <th>all_address</th>\n",
       "      <th>all_address_avg_count</th>\n",
       "    </tr>\n",
       "  </thead>\n",
       "  <tbody>\n",
       "    <tr>\n",
       "      <th>count</th>\n",
       "      <td>1660.000000</td>\n",
       "      <td>1660.000000</td>\n",
       "      <td>1660.000000</td>\n",
       "      <td>1660.000000</td>\n",
       "      <td>1660.000000</td>\n",
       "    </tr>\n",
       "    <tr>\n",
       "      <th>mean</th>\n",
       "      <td>32.539759</td>\n",
       "      <td>23.958434</td>\n",
       "      <td>8.623494</td>\n",
       "      <td>23.904819</td>\n",
       "      <td>1.267222</td>\n",
       "    </tr>\n",
       "    <tr>\n",
       "      <th>std</th>\n",
       "      <td>81.702419</td>\n",
       "      <td>59.542429</td>\n",
       "      <td>31.692652</td>\n",
       "      <td>54.161141</td>\n",
       "      <td>0.911065</td>\n",
       "    </tr>\n",
       "    <tr>\n",
       "      <th>min</th>\n",
       "      <td>1.000000</td>\n",
       "      <td>0.000000</td>\n",
       "      <td>0.000000</td>\n",
       "      <td>1.000000</td>\n",
       "      <td>1.000000</td>\n",
       "    </tr>\n",
       "    <tr>\n",
       "      <th>25%</th>\n",
       "      <td>4.000000</td>\n",
       "      <td>3.000000</td>\n",
       "      <td>1.000000</td>\n",
       "      <td>4.000000</td>\n",
       "      <td>1.000000</td>\n",
       "    </tr>\n",
       "    <tr>\n",
       "      <th>50%</th>\n",
       "      <td>11.000000</td>\n",
       "      <td>8.000000</td>\n",
       "      <td>2.000000</td>\n",
       "      <td>10.000000</td>\n",
       "      <td>1.094494</td>\n",
       "    </tr>\n",
       "    <tr>\n",
       "      <th>75%</th>\n",
       "      <td>28.000000</td>\n",
       "      <td>22.000000</td>\n",
       "      <td>5.000000</td>\n",
       "      <td>23.000000</td>\n",
       "      <td>1.300000</td>\n",
       "    </tr>\n",
       "    <tr>\n",
       "      <th>max</th>\n",
       "      <td>1619.000000</td>\n",
       "      <td>906.000000</td>\n",
       "      <td>830.000000</td>\n",
       "      <td>1030.000000</td>\n",
       "      <td>33.250000</td>\n",
       "    </tr>\n",
       "  </tbody>\n",
       "</table>\n",
       "</div>"
      ],
      "text/plain": [
       "             count     to_count   from_count  all_address  \\\n",
       "count  1660.000000  1660.000000  1660.000000  1660.000000   \n",
       "mean     32.539759    23.958434     8.623494    23.904819   \n",
       "std      81.702419    59.542429    31.692652    54.161141   \n",
       "min       1.000000     0.000000     0.000000     1.000000   \n",
       "25%       4.000000     3.000000     1.000000     4.000000   \n",
       "50%      11.000000     8.000000     2.000000    10.000000   \n",
       "75%      28.000000    22.000000     5.000000    23.000000   \n",
       "max    1619.000000   906.000000   830.000000  1030.000000   \n",
       "\n",
       "       all_address_avg_count  \n",
       "count            1660.000000  \n",
       "mean                1.267222  \n",
       "std                 0.911065  \n",
       "min                 1.000000  \n",
       "25%                 1.000000  \n",
       "50%                 1.094494  \n",
       "75%                 1.300000  \n",
       "max                33.250000  "
      ]
     },
     "execution_count": 6,
     "metadata": {},
     "output_type": "execute_result"
    }
   ],
   "source": [
    "result.describe()"
   ]
  },
  {
   "cell_type": "markdown",
   "metadata": {},
   "source": [
    "## 对单个钓鱼地址的分析"
   ]
  },
  {
   "cell_type": "code",
   "execution_count": 27,
   "metadata": {},
   "outputs": [
    {
     "data": {
      "text/html": [
       "<div>\n",
       "<style scoped>\n",
       "    .dataframe tbody tr th:only-of-type {\n",
       "        vertical-align: middle;\n",
       "    }\n",
       "\n",
       "    .dataframe tbody tr th {\n",
       "        vertical-align: top;\n",
       "    }\n",
       "\n",
       "    .dataframe thead th {\n",
       "        text-align: right;\n",
       "    }\n",
       "</style>\n",
       "<table border=\"1\" class=\"dataframe\">\n",
       "  <thead>\n",
       "    <tr style=\"text-align: right;\">\n",
       "      <th></th>\n",
       "      <th>Unnamed: 0</th>\n",
       "      <th>TxHash</th>\n",
       "      <th>BlockHeight</th>\n",
       "      <th>TimeStamp</th>\n",
       "      <th>From</th>\n",
       "      <th>To</th>\n",
       "      <th>Value</th>\n",
       "      <th>ContractAddress</th>\n",
       "      <th>Input</th>\n",
       "      <th>isError</th>\n",
       "    </tr>\n",
       "  </thead>\n",
       "  <tbody>\n",
       "    <tr>\n",
       "      <th>0</th>\n",
       "      <td>0</td>\n",
       "      <td>0xd8e529a57d78550f2972ec55386e900a740969d9dca1...</td>\n",
       "      <td>5111793</td>\n",
       "      <td>1518944993</td>\n",
       "      <td>0xb01cb49fe0d6d6e47edf3a072d15dfe73155331c</td>\n",
       "      <td>0xaa2498d85ba7559006f90110a4bc33c10a06c1af</td>\n",
       "      <td>0.300000</td>\n",
       "      <td>NaN</td>\n",
       "      <td>0x</td>\n",
       "      <td>0</td>\n",
       "    </tr>\n",
       "    <tr>\n",
       "      <th>1</th>\n",
       "      <td>1</td>\n",
       "      <td>0xee0b71811924bb1236e9751b79c4894c62ea58f9847c...</td>\n",
       "      <td>5116169</td>\n",
       "      <td>1519008180</td>\n",
       "      <td>0x3f5ce5fbfe3e9af3971dd833d26ba9b5c936f0be</td>\n",
       "      <td>0xaa2498d85ba7559006f90110a4bc33c10a06c1af</td>\n",
       "      <td>0.409748</td>\n",
       "      <td>NaN</td>\n",
       "      <td>0x</td>\n",
       "      <td>0</td>\n",
       "    </tr>\n",
       "    <tr>\n",
       "      <th>2</th>\n",
       "      <td>2</td>\n",
       "      <td>0x98b3f812e7560672e63ec0d1bd3a74104f4495dfe113...</td>\n",
       "      <td>5116177</td>\n",
       "      <td>1519008360</td>\n",
       "      <td>0x24de3b4711dd71e439727d56381e2dc480c69ad3</td>\n",
       "      <td>0xaa2498d85ba7559006f90110a4bc33c10a06c1af</td>\n",
       "      <td>0.562397</td>\n",
       "      <td>NaN</td>\n",
       "      <td>0x</td>\n",
       "      <td>0</td>\n",
       "    </tr>\n",
       "    <tr>\n",
       "      <th>3</th>\n",
       "      <td>3</td>\n",
       "      <td>0x977a1f6a5764f698075f2643e6033010703afb83d88c...</td>\n",
       "      <td>5116208</td>\n",
       "      <td>1519008770</td>\n",
       "      <td>0x200eee5a1b77d124a76419d18c9c025207969f22</td>\n",
       "      <td>0xaa2498d85ba7559006f90110a4bc33c10a06c1af</td>\n",
       "      <td>0.400000</td>\n",
       "      <td>NaN</td>\n",
       "      <td>0x</td>\n",
       "      <td>0</td>\n",
       "    </tr>\n",
       "    <tr>\n",
       "      <th>4</th>\n",
       "      <td>4</td>\n",
       "      <td>0xbf034ac20cfb9f2494beaa170f960a449e5e8d5a7eeb...</td>\n",
       "      <td>5116209</td>\n",
       "      <td>1519008853</td>\n",
       "      <td>0x7bf7a96ceb22614afa1a509ce6385199210f9797</td>\n",
       "      <td>0xaa2498d85ba7559006f90110a4bc33c10a06c1af</td>\n",
       "      <td>0.060000</td>\n",
       "      <td>NaN</td>\n",
       "      <td>0x</td>\n",
       "      <td>0</td>\n",
       "    </tr>\n",
       "  </tbody>\n",
       "</table>\n",
       "</div>"
      ],
      "text/plain": [
       "   Unnamed: 0                                             TxHash  BlockHeight  \\\n",
       "0           0  0xd8e529a57d78550f2972ec55386e900a740969d9dca1...      5111793   \n",
       "1           1  0xee0b71811924bb1236e9751b79c4894c62ea58f9847c...      5116169   \n",
       "2           2  0x98b3f812e7560672e63ec0d1bd3a74104f4495dfe113...      5116177   \n",
       "3           3  0x977a1f6a5764f698075f2643e6033010703afb83d88c...      5116208   \n",
       "4           4  0xbf034ac20cfb9f2494beaa170f960a449e5e8d5a7eeb...      5116209   \n",
       "\n",
       "    TimeStamp                                        From  \\\n",
       "0  1518944993  0xb01cb49fe0d6d6e47edf3a072d15dfe73155331c   \n",
       "1  1519008180  0x3f5ce5fbfe3e9af3971dd833d26ba9b5c936f0be   \n",
       "2  1519008360  0x24de3b4711dd71e439727d56381e2dc480c69ad3   \n",
       "3  1519008770  0x200eee5a1b77d124a76419d18c9c025207969f22   \n",
       "4  1519008853  0x7bf7a96ceb22614afa1a509ce6385199210f9797   \n",
       "\n",
       "                                           To     Value  ContractAddress  \\\n",
       "0  0xaa2498d85ba7559006f90110a4bc33c10a06c1af  0.300000              NaN   \n",
       "1  0xaa2498d85ba7559006f90110a4bc33c10a06c1af  0.409748              NaN   \n",
       "2  0xaa2498d85ba7559006f90110a4bc33c10a06c1af  0.562397              NaN   \n",
       "3  0xaa2498d85ba7559006f90110a4bc33c10a06c1af  0.400000              NaN   \n",
       "4  0xaa2498d85ba7559006f90110a4bc33c10a06c1af  0.060000              NaN   \n",
       "\n",
       "  Input  isError  \n",
       "0    0x        0  \n",
       "1    0x        0  \n",
       "2    0x        0  \n",
       "3    0x        0  \n",
       "4    0x        0  "
      ]
     },
     "execution_count": 27,
     "metadata": {},
     "output_type": "execute_result"
    }
   ],
   "source": [
    "# 钓鱼一阶节点\n",
    "\n",
    "phishing_filename = \"0x3f8a37bde9b15b65c82f9cdd00192e0ba36cc5fc.csv\"\n",
    "phishing_filename = \"0xaa2498d85ba7559006f90110a4bc33c10a06c1af.csv\"\n",
    "\n",
    "phishing_data = pd.read_csv(pwd + '/钓鱼一阶节点/' + phishing_filename)\n",
    "phishing_data.head()"
   ]
  },
  {
   "cell_type": "code",
   "execution_count": 28,
   "metadata": {},
   "outputs": [
    {
     "data": {
      "text/html": [
       "<div>\n",
       "<style scoped>\n",
       "    .dataframe tbody tr th:only-of-type {\n",
       "        vertical-align: middle;\n",
       "    }\n",
       "\n",
       "    .dataframe tbody tr th {\n",
       "        vertical-align: top;\n",
       "    }\n",
       "\n",
       "    .dataframe thead th {\n",
       "        text-align: right;\n",
       "    }\n",
       "</style>\n",
       "<table border=\"1\" class=\"dataframe\">\n",
       "  <thead>\n",
       "    <tr style=\"text-align: right;\">\n",
       "      <th></th>\n",
       "      <th>TxHash</th>\n",
       "      <th>BlockHeight</th>\n",
       "      <th>TimeStamp</th>\n",
       "      <th>From</th>\n",
       "      <th>To</th>\n",
       "      <th>Value</th>\n",
       "      <th>ContractAddress</th>\n",
       "      <th>Input</th>\n",
       "      <th>isError</th>\n",
       "    </tr>\n",
       "  </thead>\n",
       "  <tbody>\n",
       "    <tr>\n",
       "      <th>0</th>\n",
       "      <td>0xd8e529a57d78550f2972ec55386e900a740969d9dca1...</td>\n",
       "      <td>5111793</td>\n",
       "      <td>1518944993</td>\n",
       "      <td>0xb01cb49fe0d6d6e47edf3a072d15dfe73155331c</td>\n",
       "      <td>0xaa2498d85ba7559006f90110a4bc33c10a06c1af</td>\n",
       "      <td>0.300000</td>\n",
       "      <td>NaN</td>\n",
       "      <td>0x</td>\n",
       "      <td>0</td>\n",
       "    </tr>\n",
       "    <tr>\n",
       "      <th>1</th>\n",
       "      <td>0xee0b71811924bb1236e9751b79c4894c62ea58f9847c...</td>\n",
       "      <td>5116169</td>\n",
       "      <td>1519008180</td>\n",
       "      <td>0x3f5ce5fbfe3e9af3971dd833d26ba9b5c936f0be</td>\n",
       "      <td>0xaa2498d85ba7559006f90110a4bc33c10a06c1af</td>\n",
       "      <td>0.409748</td>\n",
       "      <td>NaN</td>\n",
       "      <td>0x</td>\n",
       "      <td>0</td>\n",
       "    </tr>\n",
       "    <tr>\n",
       "      <th>2</th>\n",
       "      <td>0x98b3f812e7560672e63ec0d1bd3a74104f4495dfe113...</td>\n",
       "      <td>5116177</td>\n",
       "      <td>1519008360</td>\n",
       "      <td>0x24de3b4711dd71e439727d56381e2dc480c69ad3</td>\n",
       "      <td>0xaa2498d85ba7559006f90110a4bc33c10a06c1af</td>\n",
       "      <td>0.562397</td>\n",
       "      <td>NaN</td>\n",
       "      <td>0x</td>\n",
       "      <td>0</td>\n",
       "    </tr>\n",
       "    <tr>\n",
       "      <th>3</th>\n",
       "      <td>0x977a1f6a5764f698075f2643e6033010703afb83d88c...</td>\n",
       "      <td>5116208</td>\n",
       "      <td>1519008770</td>\n",
       "      <td>0x200eee5a1b77d124a76419d18c9c025207969f22</td>\n",
       "      <td>0xaa2498d85ba7559006f90110a4bc33c10a06c1af</td>\n",
       "      <td>0.400000</td>\n",
       "      <td>NaN</td>\n",
       "      <td>0x</td>\n",
       "      <td>0</td>\n",
       "    </tr>\n",
       "    <tr>\n",
       "      <th>4</th>\n",
       "      <td>0xbf034ac20cfb9f2494beaa170f960a449e5e8d5a7eeb...</td>\n",
       "      <td>5116209</td>\n",
       "      <td>1519008853</td>\n",
       "      <td>0x7bf7a96ceb22614afa1a509ce6385199210f9797</td>\n",
       "      <td>0xaa2498d85ba7559006f90110a4bc33c10a06c1af</td>\n",
       "      <td>0.060000</td>\n",
       "      <td>NaN</td>\n",
       "      <td>0x</td>\n",
       "      <td>0</td>\n",
       "    </tr>\n",
       "  </tbody>\n",
       "</table>\n",
       "</div>"
      ],
      "text/plain": [
       "                                              TxHash  BlockHeight   TimeStamp  \\\n",
       "0  0xd8e529a57d78550f2972ec55386e900a740969d9dca1...      5111793  1518944993   \n",
       "1  0xee0b71811924bb1236e9751b79c4894c62ea58f9847c...      5116169  1519008180   \n",
       "2  0x98b3f812e7560672e63ec0d1bd3a74104f4495dfe113...      5116177  1519008360   \n",
       "3  0x977a1f6a5764f698075f2643e6033010703afb83d88c...      5116208  1519008770   \n",
       "4  0xbf034ac20cfb9f2494beaa170f960a449e5e8d5a7eeb...      5116209  1519008853   \n",
       "\n",
       "                                         From  \\\n",
       "0  0xb01cb49fe0d6d6e47edf3a072d15dfe73155331c   \n",
       "1  0x3f5ce5fbfe3e9af3971dd833d26ba9b5c936f0be   \n",
       "2  0x24de3b4711dd71e439727d56381e2dc480c69ad3   \n",
       "3  0x200eee5a1b77d124a76419d18c9c025207969f22   \n",
       "4  0x7bf7a96ceb22614afa1a509ce6385199210f9797   \n",
       "\n",
       "                                           To     Value  ContractAddress  \\\n",
       "0  0xaa2498d85ba7559006f90110a4bc33c10a06c1af  0.300000              NaN   \n",
       "1  0xaa2498d85ba7559006f90110a4bc33c10a06c1af  0.409748              NaN   \n",
       "2  0xaa2498d85ba7559006f90110a4bc33c10a06c1af  0.562397              NaN   \n",
       "3  0xaa2498d85ba7559006f90110a4bc33c10a06c1af  0.400000              NaN   \n",
       "4  0xaa2498d85ba7559006f90110a4bc33c10a06c1af  0.060000              NaN   \n",
       "\n",
       "  Input  isError  \n",
       "0    0x        0  \n",
       "1    0x        0  \n",
       "2    0x        0  \n",
       "3    0x        0  \n",
       "4    0x        0  "
      ]
     },
     "execution_count": 28,
     "metadata": {},
     "output_type": "execute_result"
    }
   ],
   "source": [
    "# 去除Unnamed: 0列\n",
    "phishing_data = phishing_data.drop(columns=['Unnamed: 0'])\n",
    "# 按照时间排序\n",
    "phishing_data = phishing_data.sort_values(by='TimeStamp')\n",
    "phishing_data.head()"
   ]
  },
  {
   "cell_type": "code",
   "execution_count": 29,
   "metadata": {},
   "outputs": [
    {
     "data": {
      "text/plain": [
       "[<matplotlib.lines.Line2D at 0x13b4b187550>]"
      ]
     },
     "execution_count": 29,
     "metadata": {},
     "output_type": "execute_result"
    },
    {
     "data": {
      "image/png": "[encoded data removed]",
      "text/plain": [
       "<Figure size 432x288 with 1 Axes>"
      ]
     },
     "metadata": {
      "needs_background": "light"
     },
     "output_type": "display_data"
    }
   ],
   "source": [
    "# 交易额画图\n",
    "import matplotlib.pyplot as plt\n",
    "plt.plot(phishing_data['Value'])"
   ]
  },
  {
   "cell_type": "code",
   "execution_count": 30,
   "metadata": {},
   "outputs": [],
   "source": [
    "# 若当前交易的from为钓鱼地址，则为出钱交易，否则为入钱交易\n",
    "phishing_data['is_out'] = phishing_data['From'] == phishing_filename.split('.')[0]"
   ]
  },
  {
   "cell_type": "code",
   "execution_count": 31,
   "metadata": {},
   "outputs": [],
   "source": [
    "# 若为出钱交易，则为负数，否则为正数\n",
    "phishing_data['tx_value'] = phishing_data['Value'] * phishing_data['is_out'].apply(lambda x: -1 if x else 1)"
   ]
  },
  {
   "cell_type": "code",
   "execution_count": 32,
   "metadata": {},
   "outputs": [
    {
     "data": {
      "text/plain": [
       "[<matplotlib.lines.Line2D at 0x13b4b1ea470>]"
      ]
     },
     "execution_count": 32,
     "metadata": {},
     "output_type": "execute_result"
    },
    {
     "data": {
      "image/png": "[encoded data removed]",
      "text/plain": [
       "<Figure size 432x288 with 1 Axes>"
      ]
     },
     "metadata": {
      "needs_background": "light"
     },
     "output_type": "display_data"
    }
   ],
   "source": [
    "plt.plot(phishing_data['tx_value'])"
   ]
  },
  {
   "cell_type": "code",
   "execution_count": 39,
   "metadata": {},
   "outputs": [
    {
     "data": {
      "text/plain": [
       "[<matplotlib.lines.Line2D at 0x13b4b32b550>]"
      ]
     },
     "execution_count": 39,
     "metadata": {},
     "output_type": "execute_result"
    },
    {
     "data": {
      "image/png": "[encoded data removed]",
      "text/plain": [
       "<Figure size 432x288 with 1 Axes>"
      ]
     },
     "metadata": {
      "needs_background": "light"
     },
     "output_type": "display_data"
    }
   ],
   "source": [
    "# 账户余额随时间变化\n",
    "phishing_data['balance'] = phishing_data['tx_value'].cumsum()\n",
    "plt.plot(phishing_data['balance'])"
   ]
  },
  {
   "cell_type": "markdown",
   "metadata": {},
   "source": [
    "## 对单个正常账户进行分析"
   ]
  },
  {
   "cell_type": "code",
   "execution_count": 33,
   "metadata": {},
   "outputs": [
    {
     "data": {
      "text/html": [
       "<div>\n",
       "<style scoped>\n",
       "    .dataframe tbody tr th:only-of-type {\n",
       "        vertical-align: middle;\n",
       "    }\n",
       "\n",
       "    .dataframe tbody tr th {\n",
       "        vertical-align: top;\n",
       "    }\n",
       "\n",
       "    .dataframe thead th {\n",
       "        text-align: right;\n",
       "    }\n",
       "</style>\n",
       "<table border=\"1\" class=\"dataframe\">\n",
       "  <thead>\n",
       "    <tr style=\"text-align: right;\">\n",
       "      <th></th>\n",
       "      <th>Unnamed: 0</th>\n",
       "      <th>TxHash</th>\n",
       "      <th>BlockHeight</th>\n",
       "      <th>TimeStamp</th>\n",
       "      <th>From</th>\n",
       "      <th>To</th>\n",
       "      <th>Value</th>\n",
       "      <th>ContractAddress</th>\n",
       "      <th>Input</th>\n",
       "      <th>isError</th>\n",
       "    </tr>\n",
       "  </thead>\n",
       "  <tbody>\n",
       "    <tr>\n",
       "      <th>0</th>\n",
       "      <td>0</td>\n",
       "      <td>0xf45db24e005a3f2b57b1ece7f2f3aca24f761ccae265...</td>\n",
       "      <td>3528778</td>\n",
       "      <td>1492095681</td>\n",
       "      <td>0x355db2ec54668038870d6ae87431b8ccb2c04653</td>\n",
       "      <td>0x0afa235c9d6a59c227be92995b7e55a4dbc9cc19</td>\n",
       "      <td>10000.000000</td>\n",
       "      <td>NaN</td>\n",
       "      <td>0x</td>\n",
       "      <td>0</td>\n",
       "    </tr>\n",
       "    <tr>\n",
       "      <th>1</th>\n",
       "      <td>1</td>\n",
       "      <td>0x5af96611b24d6215c6b88c5be85fe631a75e6d967dcc...</td>\n",
       "      <td>3528796</td>\n",
       "      <td>1492096060</td>\n",
       "      <td>0x355db2ec54668038870d6ae87431b8ccb2c04653</td>\n",
       "      <td>0x0afa235c9d6a59c227be92995b7e55a4dbc9cc19</td>\n",
       "      <td>14187.000000</td>\n",
       "      <td>NaN</td>\n",
       "      <td>0x</td>\n",
       "      <td>0</td>\n",
       "    </tr>\n",
       "    <tr>\n",
       "      <th>2</th>\n",
       "      <td>2</td>\n",
       "      <td>0xe39974fb5335edfbb2bebeb322861abc87a7e67b1226...</td>\n",
       "      <td>3532497</td>\n",
       "      <td>1492150592</td>\n",
       "      <td>0x72bfa9a95c2e8729574dd70c0b793a5ff1eef057</td>\n",
       "      <td>0x0afa235c9d6a59c227be92995b7e55a4dbc9cc19</td>\n",
       "      <td>5.000000</td>\n",
       "      <td>NaN</td>\n",
       "      <td>0x</td>\n",
       "      <td>0</td>\n",
       "    </tr>\n",
       "    <tr>\n",
       "      <th>3</th>\n",
       "      <td>3</td>\n",
       "      <td>0x299a774799d86ae63b82e77ef6f46f914a9eb31d04bf...</td>\n",
       "      <td>3532504</td>\n",
       "      <td>1492150670</td>\n",
       "      <td>0xebc2c6a26edd67ed4831066eed5b5d1ac5af6fa9</td>\n",
       "      <td>0x0afa235c9d6a59c227be92995b7e55a4dbc9cc19</td>\n",
       "      <td>19.868180</td>\n",
       "      <td>NaN</td>\n",
       "      <td>0x</td>\n",
       "      <td>0</td>\n",
       "    </tr>\n",
       "    <tr>\n",
       "      <th>4</th>\n",
       "      <td>4</td>\n",
       "      <td>0x3f46fc5ed2b3b547abbe802f87f896086619aaf51b93...</td>\n",
       "      <td>3532504</td>\n",
       "      <td>1492150670</td>\n",
       "      <td>0x34d05e6cf215c50478cf215dd797fabf97b19c07</td>\n",
       "      <td>0x0afa235c9d6a59c227be92995b7e55a4dbc9cc19</td>\n",
       "      <td>19.390754</td>\n",
       "      <td>NaN</td>\n",
       "      <td>0x</td>\n",
       "      <td>0</td>\n",
       "    </tr>\n",
       "  </tbody>\n",
       "</table>\n",
       "</div>"
      ],
      "text/plain": [
       "   Unnamed: 0                                             TxHash  BlockHeight  \\\n",
       "0           0  0xf45db24e005a3f2b57b1ece7f2f3aca24f761ccae265...      3528778   \n",
       "1           1  0x5af96611b24d6215c6b88c5be85fe631a75e6d967dcc...      3528796   \n",
       "2           2  0xe39974fb5335edfbb2bebeb322861abc87a7e67b1226...      3532497   \n",
       "3           3  0x299a774799d86ae63b82e77ef6f46f914a9eb31d04bf...      3532504   \n",
       "4           4  0x3f46fc5ed2b3b547abbe802f87f896086619aaf51b93...      3532504   \n",
       "\n",
       "    TimeStamp                                        From  \\\n",
       "0  1492095681  0x355db2ec54668038870d6ae87431b8ccb2c04653   \n",
       "1  1492096060  0x355db2ec54668038870d6ae87431b8ccb2c04653   \n",
       "2  1492150592  0x72bfa9a95c2e8729574dd70c0b793a5ff1eef057   \n",
       "3  1492150670  0xebc2c6a26edd67ed4831066eed5b5d1ac5af6fa9   \n",
       "4  1492150670  0x34d05e6cf215c50478cf215dd797fabf97b19c07   \n",
       "\n",
       "                                           To         Value  ContractAddress  \\\n",
       "0  0x0afa235c9d6a59c227be92995b7e55a4dbc9cc19  10000.000000              NaN   \n",
       "1  0x0afa235c9d6a59c227be92995b7e55a4dbc9cc19  14187.000000              NaN   \n",
       "2  0x0afa235c9d6a59c227be92995b7e55a4dbc9cc19      5.000000              NaN   \n",
       "3  0x0afa235c9d6a59c227be92995b7e55a4dbc9cc19     19.868180              NaN   \n",
       "4  0x0afa235c9d6a59c227be92995b7e55a4dbc9cc19     19.390754              NaN   \n",
       "\n",
       "  Input  isError  \n",
       "0    0x        0  \n",
       "1    0x        0  \n",
       "2    0x        0  \n",
       "3    0x        0  \n",
       "4    0x        0  "
      ]
     },
     "execution_count": 33,
     "metadata": {},
     "output_type": "execute_result"
    }
   ],
   "source": [
    "normal_filename = \"0x0d323937359f60672ad5b7680535fa70341803b7.csv\"\n",
    "normal_filename = \"0x0afa235c9d6a59c227be92995b7e55a4dbc9cc19.csv\"\n",
    "\n",
    "normal_data = pd.read_csv(pwd + '/非钓鱼一阶节点/' + normal_filename)\n",
    "normal_data.head()"
   ]
  },
  {
   "cell_type": "code",
   "execution_count": 34,
   "metadata": {},
   "outputs": [],
   "source": [
    "# 去除Unnamed: 0列\n",
    "normal_data = normal_data.drop(columns=['Unnamed: 0'])\n",
    "# 按照时间排序\n",
    "normal_data = normal_data.sort_values(by='TimeStamp')"
   ]
  },
  {
   "cell_type": "code",
   "execution_count": 35,
   "metadata": {},
   "outputs": [
    {
     "data": {
      "text/plain": [
       "[<matplotlib.lines.Line2D at 0x13b4b2504e0>]"
      ]
     },
     "execution_count": 35,
     "metadata": {},
     "output_type": "execute_result"
    },
    {
     "data": {
      "image/png": "[encoded data removed]",
      "text/plain": [
       "<Figure size 432x288 with 1 Axes>"
      ]
     },
     "metadata": {
      "needs_background": "light"
     },
     "output_type": "display_data"
    }
   ],
   "source": [
    "# 交易额画图\n",
    "import matplotlib.pyplot as plt\n",
    "plt.plot(normal_data['Value'])"
   ]
  },
  {
   "cell_type": "code",
   "execution_count": 36,
   "metadata": {},
   "outputs": [],
   "source": [
    "# 若当前交易的from为当前地址，则为出钱交易，否则为入钱交易\n",
    "normal_data['is_out'] = normal_data['From'] == normal_filename.split('.')[0]"
   ]
  },
  {
   "cell_type": "code",
   "execution_count": 37,
   "metadata": {},
   "outputs": [],
   "source": [
    "# 若为出钱交易，则为负数，否则为正数\n",
    "normal_data['tx_value'] = normal_data['Value'] * normal_data['is_out'].apply(lambda x: -1 if x else 1)"
   ]
  },
  {
   "cell_type": "code",
   "execution_count": 38,
   "metadata": {},
   "outputs": [
    {
     "data": {
      "text/plain": [
       "[<matplotlib.lines.Line2D at 0x13b4b2c0198>]"
      ]
     },
     "execution_count": 38,
     "metadata": {},
     "output_type": "execute_result"
    },
    {
     "data": {
      "image/png": "[encoded data removed]",
      "text/plain": [
       "<Figure size 432x288 with 1 Axes>"
      ]
     },
     "metadata": {
      "needs_background": "light"
     },
     "output_type": "display_data"
    }
   ],
   "source": [
    "plt.plot(normal_data['tx_value'])"
   ]
  },
  {
   "cell_type": "code",
   "execution_count": 40,
   "metadata": {},
   "outputs": [
    {
     "data": {
      "text/plain": [
       "[<matplotlib.lines.Line2D at 0x13b4b388ac8>]"
      ]
     },
     "execution_count": 40,
     "metadata": {},
     "output_type": "execute_result"
    },
    {
     "data": {
      "image/png": "[encoded data removed]",
      "text/plain": [
       "<Figure size 432x288 with 1 Axes>"
      ]
     },
     "metadata": {
      "needs_background": "light"
     },
     "output_type": "display_data"
    }
   ],
   "source": [
    "# 账户余额随时间变化\n",
    "normal_data['balance'] = normal_data['tx_value'].cumsum()\n",
    "plt.plot(normal_data['balance'])"
   ]
  },
  {
   "cell_type": "code",
   "execution_count": null,
   "metadata": {},
   "outputs": [],
   "source": []
  }
 ],
 "metadata": {
  "kernelspec": {
   "display_name": "Python 3.6.8 ('blockchian-recoginzer')",
   "language": "python",
   "name": "python3"
  },
  "language_info": {
   "codemirror_mode": {
    "name": "ipython",
    "version": 3
   },
   "file_extension": ".py",
   "mimetype": "text/x-python",
   "name": "python",
   "nbconvert_exporter": "python",
   "pygments_lexer": "ipython3",
   "version": "3.6.13"
  },
  "orig_nbformat": 4,
  "vscode": {
   "interpreter": {
    "hash": "660130ae2f18051b26ad7aa9c4d9fb9b744472a4580f9595361edaca1ae504a8"
   }
  }
 },
 "nbformat": 4,
 "nbformat_minor": 2
}
