{
 "cells": [
  {
   "cell_type": "markdown",
   "metadata": {},
   "source": [
    "### Trans2Vec\n",
    "Wu J, Yuan Q, Lin D, et al. Who are the phishers? phishing scam detection on ethereum via network embedding[J]. IEEE Transactions on Systems, Man, and Cybernetics: Systems, 2020."
   ]
  },
  {
   "cell_type": "code",
   "execution_count": 19,
   "metadata": {},
   "outputs": [],
   "source": [
    "import pandas as pd \n",
    "import os \n",
    "import networkx as nx \n",
    "import warnings\n",
    "\n",
    "warnings.filterwarnings('ignore')"
   ]
  },
  {
   "cell_type": "code",
   "execution_count": 20,
   "metadata": {},
   "outputs": [],
   "source": [
    "pwd = os.getcwd()"
   ]
  },
  {
   "cell_type": "code",
   "execution_count": 22,
   "metadata": {},
   "outputs": [],
   "source": [
    "# convert data to trans2vec format\n",
    "# dataset1\n",
    "data = {}\n",
    "label = {}\n",
    "\n",
    "for filename in os.listdir(pwd + '/../original_data/open/钓鱼一阶节点/'):\n",
    "    if filename.endswith('.csv'):\n",
    "        df = pd.read_csv(pwd + '/../original_data/open/钓鱼一阶节点/' + filename)\n",
    "        G = nx.from_pandas_edgelist(df, source='From', target='To', edge_attr=('Value', 'TimeStamp'))\n",
    "        addr = filename.split('.')[0]\n",
    "        data[addr] = G\n",
    "        label[addr] = 0\n",
    "\n",
    "for filename in os.listdir(pwd + '/../original_data/open/非钓鱼一阶节点/'):\n",
    "    if filename.endswith('.csv'):\n",
    "        df = pd.read_csv(pwd + '/../original_data/open/非钓鱼一阶节点/' + filename)\n",
    "        G = nx.from_pandas_edgelist(df, source='From', target='To', edge_attr=('Value', 'TimeStamp'))\n",
    "        addr = filename.split('.')[0]\n",
    "        data[addr] = G\n",
    "        label[addr] = 1"
   ]
  },
  {
   "cell_type": "code",
   "execution_count": 3,
   "metadata": {},
   "outputs": [
    {
     "name": "stdout",
     "output_type": "stream",
     "text": [
      "Processing file: 0xfffc21bc8b74fd9f9b86be03d7a35afdcda0f0fc.csv\r"
     ]
    }
   ],
   "source": [
    "# dataset2\n",
    "\n",
    "data = {}\n",
    "label = {}\n",
    "\n",
    "for filename in os.listdir(pwd + '/../original_data/etherscan/1d/phish-hack/'):\n",
    "    if filename.endswith('.csv'):\n",
    "        print(\"Processing file: \" + filename, end='\\r')\n",
    "        try:\n",
    "            df = pd.read_csv(pwd + '/../original_data/etherscan/1d/phish-hack/' + filename)\n",
    "            columns_key = {'from': 'From', 'to': 'To', 'value': 'Value', 'timeStamp': 'TimeStamp'}\n",
    "            # 统一格式\n",
    "            df.rename(columns=columns_key, inplace=True)\n",
    "            df['Value'] = df['Value'].astype(float) / 1**18           \n",
    "            G = nx.from_pandas_edgelist(df, source='From', target='To', edge_attr=('Value', 'TimeStamp'))\n",
    "            addr = filename.split('.')[0]\n",
    "            data[addr] = G\n",
    "            label[addr] = 0\n",
    "        except:\n",
    "            continue\n",
    "\n",
    "for filename in os.listdir(pwd + '/../original_data/etherscan/1d/normal/'):\n",
    "    if filename.endswith('.csv'):\n",
    "        print(\"Processing file: \" + filename, end='\\r')\n",
    "        try:\n",
    "            df = pd.read_csv(pwd + '/../original_data/etherscan/1d/normal/'+ filename)\n",
    "            # 将from、to、value、timeStamp转换为From、To、Value、TimeStamp\n",
    "            columns_key = {'from': 'From', 'to': 'To', 'value': 'Value', 'timeStamp': 'TimeStamp'}\n",
    "            df.rename(columns=columns_key, inplace=True)\n",
    "            df['Value'] = df['Value'].astype(float) / 1**18\n",
    "            G = nx.from_pandas_edgelist(df, source='From', target='To', edge_attr=('Value', 'TimeStamp'))\n",
    "            addr = filename.split('.')[0]\n",
    "            data[addr] = G\n",
    "            label[addr] = 1\n",
    "        except:\n",
    "            continue\n",
    "\n",
    "for filename in os.listdir(pwd + '/../original_data/open/非钓鱼一阶节点/'):\n",
    "    if filename.endswith('.csv'):\n",
    "        print(\"Processing file: \" + filename, end='\\r')\n",
    "        df = pd.read_csv(pwd + '/../original_data/open/非钓鱼一阶节点/' + filename)\n",
    "        G = nx.from_pandas_edgelist(df, source='From', target='To', edge_attr=('Value', 'TimeStamp'))\n",
    "        addr = filename.split('.')[0]\n",
    "        data[addr] = G\n",
    "        label[addr] = 1"
   ]
  },
  {
   "cell_type": "markdown",
   "metadata": {},
   "source": [
    "### 完全随机游走"
   ]
  },
  {
   "cell_type": "code",
   "execution_count": 23,
   "metadata": {},
   "outputs": [
    {
     "data": {
      "text/plain": [
       "3360"
      ]
     },
     "execution_count": 23,
     "metadata": {},
     "output_type": "execute_result"
    }
   ],
   "source": [
    "len(data)"
   ]
  },
  {
   "cell_type": "code",
   "execution_count": 24,
   "metadata": {},
   "outputs": [],
   "source": [
    "# random walk\n",
    "import random\n",
    "import numpy as np\n",
    "\n",
    "def random_walk(G, walk_length, start_node=None):\n",
    "    \"\"\"Performs a random walk starting from start node.\"\"\"\n",
    "    if start_node:\n",
    "        path = [start_node]\n",
    "    else:\n",
    "        # Sampling is uniform w.r.t V, and not w.r.t E\n",
    "        path = [random.choice(list(G.nodes()))]\n",
    "\n",
    "    while len(path) < walk_length:\n",
    "        cur = path[-1]\n",
    "        if len(list(G.neighbors(cur))) > 0:\n",
    "            path.append(random.choice(list(G.neighbors(cur))))\n",
    "        else:\n",
    "            break\n",
    "    res = [str(node) for node in path]\n",
    "    # print(len(res), res)\n",
    "    return res"
   ]
  },
  {
   "cell_type": "code",
   "execution_count": 25,
   "metadata": {},
   "outputs": [],
   "source": [
    "# generate random walk sequences\n",
    "walks = []\n",
    "\n",
    "for addr in data:\n",
    "    G = data[addr]\n",
    "    walk = random_walk(G, 20)\n",
    "    walks.append(walk)\n"
   ]
  },
  {
   "cell_type": "code",
   "execution_count": 26,
   "metadata": {},
   "outputs": [],
   "source": [
    "# word2vec\n",
    "from gensim.models import Word2Vec\n",
    "\n",
    "model = Word2Vec(walks, vector_size=64, window=2, min_count=0, sg=1, workers=4)\n",
    "\n",
    "features = []\n",
    "\n",
    "for wl in walks:\n",
    "    feature = np.zeros(64)\n",
    "    for w in wl:\n",
    "        feature += model.wv[w]\n",
    "    features.append(feature)"
   ]
  },
  {
   "cell_type": "code",
   "execution_count": 27,
   "metadata": {},
   "outputs": [
    {
     "name": "stdout",
     "output_type": "stream",
     "text": [
      "3360\n"
     ]
    }
   ],
   "source": [
    "print(len(features))"
   ]
  },
  {
   "cell_type": "code",
   "execution_count": 28,
   "metadata": {},
   "outputs": [],
   "source": [
    "# classification\n",
    "from sklearn.model_selection import train_test_split\n",
    "\n",
    "X_train, X_test, y_train, y_test = train_test_split(features, list(label.values()), test_size=0.2, random_state=42)\n"
   ]
  },
  {
   "cell_type": "code",
   "execution_count": 29,
   "metadata": {},
   "outputs": [
    {
     "name": "stdout",
     "output_type": "stream",
     "text": [
      "              precision    recall  f1-score   support\n",
      "\n",
      "           0     0.6510    0.6676    0.6592       352\n",
      "           1     0.6238    0.6062    0.6149       320\n",
      "\n",
      "    accuracy                         0.6384       672\n",
      "   macro avg     0.6374    0.6369    0.6370       672\n",
      "weighted avg     0.6380    0.6384    0.6381       672\n",
      "\n"
     ]
    }
   ],
   "source": [
    "# xgboost\n",
    "import xgboost as xgb\n",
    "\n",
    "clf = xgb.XGBClassifier()\n",
    "\n",
    "clf.fit(X_train, y_train)\n",
    "\n",
    "y_pred = clf.predict(X_test)\n",
    "\n",
    "from sklearn.metrics import classification_report\n",
    "\n",
    "print(classification_report(y_test, y_pred, digits=4))\n"
   ]
  },
  {
   "cell_type": "markdown",
   "metadata": {},
   "source": [
    "### 按照timestamp和value偏向随机游走"
   ]
  },
  {
   "cell_type": "code",
   "execution_count": 30,
   "metadata": {},
   "outputs": [],
   "source": [
    "# random walk\n",
    "\n",
    "import random\n",
    "\n",
    "def baised_random_walk(G, walk_length, start_node=None, is_baised=True, baised_attr=('TimeStamp', 'Value'), baised_alpha=(0.5, 0.5)):\n",
    "    \"\"\"Performs a random walk starting from start node.\"\"\"\n",
    "    if start_node:\n",
    "        path = [start_node]\n",
    "    else:\n",
    "        # Sampling is uniform w.r.t V, and not w.r.t E\n",
    "        path = [random.choice(list(G.nodes()))]\n",
    "\n",
    "    while len(path) < walk_length:\n",
    "        cur = path[-1]\n",
    "        if len(list(G.neighbors(cur))) > 0:\n",
    "            if is_baised:\n",
    "                neighbors = list(G.neighbors(cur))\n",
    "                attr = [G[cur][n][baised_attr[0]] * baised_alpha[0] + G[cur][n][baised_attr[1]] * baised_alpha[1] for n in neighbors]\n",
    "                path.append(neighbors[np.argmax(attr)])\n",
    "            else:\n",
    "                path.append(random.choice(list(G.neighbors(cur))))\n",
    "        else:\n",
    "            break\n",
    "    res = [str(node) for node in path]\n",
    "    # print(len(res), res)\n",
    "    return res"
   ]
  },
  {
   "cell_type": "code",
   "execution_count": 31,
   "metadata": {},
   "outputs": [],
   "source": [
    "# generate random walk sequences\n",
    "walks = []\n",
    "\n",
    "for addr in data:\n",
    "    G = data[addr]\n",
    "    walk = baised_random_walk(G, 20)\n",
    "    walks.append(walk)"
   ]
  },
  {
   "cell_type": "code",
   "execution_count": 32,
   "metadata": {},
   "outputs": [],
   "source": [
    "# word2vec\n",
    "from gensim.models import Word2Vec\n",
    "\n",
    "model = Word2Vec(walks, vector_size=64, window=10, min_count=0, sg=1, workers=4)\n",
    "\n",
    "features = []\n",
    "\n",
    "for wl in walks:\n",
    "    feature = np.zeros(64)\n",
    "    for w in wl:\n",
    "        feature += model.wv[w]\n",
    "    features.append(feature)"
   ]
  },
  {
   "cell_type": "code",
   "execution_count": 33,
   "metadata": {},
   "outputs": [],
   "source": [
    "# classification\n",
    "from sklearn.model_selection import train_test_split\n",
    "\n",
    "X_train, X_test, y_train, y_test = train_test_split(features, list(label.values()), test_size=0.2, random_state=42)"
   ]
  },
  {
   "cell_type": "code",
   "execution_count": 34,
   "metadata": {},
   "outputs": [
    {
     "name": "stdout",
     "output_type": "stream",
     "text": [
      "              precision    recall  f1-score   support\n",
      "\n",
      "           0     0.8404    0.7926    0.8158       352\n",
      "           1     0.7853    0.8344    0.8091       320\n",
      "\n",
      "    accuracy                         0.8125       672\n",
      "   macro avg     0.8128    0.8135    0.8124       672\n",
      "weighted avg     0.8141    0.8125    0.8126       672\n",
      "\n"
     ]
    }
   ],
   "source": [
    "# xgboost\n",
    "import xgboost as xgb\n",
    "\n",
    "clf = xgb.XGBClassifier()\n",
    "\n",
    "clf.fit(X_train, y_train)\n",
    "\n",
    "y_pred = clf.predict(X_test)\n",
    "\n",
    "from sklearn.metrics import classification_report\n",
    "\n",
    "print(classification_report(y_test, y_pred, digits=4))"
   ]
  },
  {
   "cell_type": "code",
   "execution_count": null,
   "metadata": {},
   "outputs": [],
   "source": []
  }
 ],
 "metadata": {
  "kernelspec": {
   "display_name": "Python 3.8.13 ('blockchain-work')",
   "language": "python",
   "name": "python3"
  },
  "language_info": {
   "codemirror_mode": {
    "name": "ipython",
    "version": 3
   },
   "file_extension": ".py",
   "mimetype": "text/x-python",
   "name": "python",
   "nbconvert_exporter": "python",
   "pygments_lexer": "ipython3",
   "version": "3.8.13"
  },
  "orig_nbformat": 4,
  "vscode": {
   "interpreter": {
    "hash": "c1cba5e5a97c5f7d0d5488a0a811a4b3b7206ad8e3ca955e8a2331ec0040d37d"
   }
  }
 },
 "nbformat": 4,
 "nbformat_minor": 2
}
