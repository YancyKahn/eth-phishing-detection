{
 "cells": [
  {
   "cell_type": "code",
   "execution_count": 1,
   "metadata": {},
   "outputs": [],
   "source": [
    "precision = [0.7583081570996979, 0.7590361445783133, 0.7629179331306991, 0.7757575757575758, 0.7708333333333334, 0.7673716012084593, 0.7689969604863222, 0.7901234567901234, 0.7581120943952803, 0.7750759878419453]\n",
    "recall = [0.742603550295858, 0.7455621301775148, 0.742603550295858, 0.757396449704142, 0.7662721893491125, 0.7514792899408284, 0.7485207100591716, 0.757396449704142, 0.7603550295857988, 0.7544378698224852]\n",
    "f1 = [0.750373692077728, 0.7522388059701492, 0.7526236881559221, 0.7664670658682635, 0.768545994065282, 0.7593423019431987, 0.7586206896551725, 0.7734138972809668, 0.7592319054652881, 0.7646176911544228]"
   ]
  },
  {
   "cell_type": "code",
   "execution_count": 2,
   "metadata": {},
   "outputs": [],
   "source": [
    "import numpy as np\n",
    "numpy_precision = np.array(precision)\n",
    "numpy_recall = np.array(recall)\n",
    "numpy_f1 = np.array(f1)"
   ]
  },
  {
   "cell_type": "code",
   "execution_count": 7,
   "metadata": {},
   "outputs": [
    {
     "name": "stdout",
     "output_type": "stream",
     "text": [
      "0.7583081570996979\n",
      "0.7590361445783133\n",
      "0.7629179331306991\n",
      "0.7757575757575758\n",
      "0.7708333333333334\n",
      "0.7673716012084593\n",
      "0.7689969604863222\n",
      "0.7901234567901234\n",
      "0.7581120943952803\n",
      "0.7750759878419453\n"
     ]
    }
   ],
   "source": [
    "for item in numpy_precision:\n",
    "    print(item)"
   ]
  },
  {
   "cell_type": "code",
   "execution_count": 8,
   "metadata": {},
   "outputs": [
    {
     "name": "stdout",
     "output_type": "stream",
     "text": [
      "0.742603550295858\n",
      "0.7455621301775148\n",
      "0.742603550295858\n",
      "0.757396449704142\n",
      "0.7662721893491125\n",
      "0.7514792899408284\n",
      "0.7485207100591716\n",
      "0.757396449704142\n",
      "0.7603550295857988\n",
      "0.7544378698224852\n"
     ]
    }
   ],
   "source": [
    "for item in numpy_recall:\n",
    "    print(item)"
   ]
  },
  {
   "cell_type": "code",
   "execution_count": 10,
   "metadata": {},
   "outputs": [
    {
     "name": "stdout",
     "output_type": "stream",
     "text": [
      "0.750373692077728\n",
      "0.7522388059701492\n",
      "0.7526236881559221\n",
      "0.7664670658682635\n",
      "0.768545994065282\n",
      "0.7593423019431987\n",
      "0.7586206896551725\n",
      "0.7734138972809668\n",
      "0.7592319054652881\n",
      "0.7646176911544228\n"
     ]
    }
   ],
   "source": [
    "for item in numpy_f1:\n",
    "    print(item)"
   ]
  },
  {
   "cell_type": "code",
   "execution_count": 11,
   "metadata": {},
   "outputs": [],
   "source": [
    "precision = [0.7657657657657657, 0.7558823529411764, 0.778816199376947, 0.7699386503067485, 0.7616099071207431]\n",
    "recall = [0.7544378698224852, 0.7603550295857988, 0.7396449704142012, 0.742603550295858, 0.727810650887574]\n",
    "f1 = [0.7600596125186289, 0.7581120943952803, 0.7587253414264037, 0.7560240963855422, 0.7443267776096824]"
   ]
  },
  {
   "cell_type": "code",
   "execution_count": 12,
   "metadata": {},
   "outputs": [],
   "source": [
    "import numpy as np\n",
    "numpy_precision = np.array(precision)\n",
    "numpy_recall = np.array(recall)\n",
    "numpy_f1 = np.array(f1)"
   ]
  },
  {
   "cell_type": "code",
   "execution_count": 13,
   "metadata": {},
   "outputs": [
    {
     "name": "stdout",
     "output_type": "stream",
     "text": [
      "0.7657657657657657\n",
      "0.7558823529411764\n",
      "0.778816199376947\n",
      "0.7699386503067485\n",
      "0.7616099071207431\n"
     ]
    }
   ],
   "source": [
    "for item in numpy_precision:\n",
    "    print(item)"
   ]
  },
  {
   "cell_type": "code",
   "execution_count": 14,
   "metadata": {},
   "outputs": [
    {
     "name": "stdout",
     "output_type": "stream",
     "text": [
      "0.7544378698224852\n",
      "0.7603550295857988\n",
      "0.7396449704142012\n",
      "0.742603550295858\n",
      "0.727810650887574\n"
     ]
    }
   ],
   "source": [
    "for item in numpy_recall:\n",
    "    print(item)"
   ]
  },
  {
   "cell_type": "code",
   "execution_count": 15,
   "metadata": {},
   "outputs": [
    {
     "name": "stdout",
     "output_type": "stream",
     "text": [
      "0.7600596125186289\n",
      "0.7581120943952803\n",
      "0.7587253414264037\n",
      "0.7560240963855422\n",
      "0.7443267776096824\n"
     ]
    }
   ],
   "source": [
    "for item in numpy_f1:\n",
    "    print(item)"
   ]
  },
  {
   "cell_type": "code",
   "execution_count": null,
   "metadata": {},
   "outputs": [],
   "source": [
    "precision = [0.7791798107255521, 0.7626112759643917, 0.7643504531722054, 0.7583081570996979, 0.7597597597597597, 0.7707006369426752, 0.7760736196319018, 0.7661538461538462, 0.774390243902439, 0.7574850299401198]\n",
    "recall = [0.7307692307692307, 0.7603550295857988, 0.7485207100591716, 0.742603550295858, 0.7485207100591716, 0.7159763313609467, 0.7485207100591716, 0.7366863905325444, 0.7514792899408284, 0.7485207100591716]\n",
    "f1 = [0.7541984732824427, 0.7614814814814815, 0.7563527653213752, 0.750373692077728, 0.7540983606557377, 0.7423312883435583, 0.7620481927710844, 0.751131221719457, 0.7627627627627627, 0.7529761904761905]"
   ]
  }
 ],
 "metadata": {
  "kernelspec": {
   "display_name": "Python 3.8.13 ('blockchain-work')",
   "language": "python",
   "name": "python3"
  },
  "language_info": {
   "codemirror_mode": {
    "name": "ipython",
    "version": 3
   },
   "file_extension": ".py",
   "mimetype": "text/x-python",
   "name": "python",
   "nbconvert_exporter": "python",
   "pygments_lexer": "ipython3",
   "version": "3.8.13"
  },
  "orig_nbformat": 4,
  "vscode": {
   "interpreter": {
    "hash": "c1cba5e5a97c5f7d0d5488a0a811a4b3b7206ad8e3ca955e8a2331ec0040d37d"
   }
  }
 },
 "nbformat": 4,
 "nbformat_minor": 2
}
