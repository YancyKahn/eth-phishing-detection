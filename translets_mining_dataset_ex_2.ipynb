{
 "cells": [
  {
   "cell_type": "code",
   "execution_count": 1,
   "metadata": {},
   "outputs": [],
   "source": [
    "import pandas as pd "
   ]
  },
  {
   "cell_type": "code",
   "execution_count": 2,
   "metadata": {},
   "outputs": [
    {
     "data": {
      "text/html": [
       "<div>\n",
       "<style scoped>\n",
       "    .dataframe tbody tr th:only-of-type {\n",
       "        vertical-align: middle;\n",
       "    }\n",
       "\n",
       "    .dataframe tbody tr th {\n",
       "        vertical-align: top;\n",
       "    }\n",
       "\n",
       "    .dataframe thead th {\n",
       "        text-align: right;\n",
       "    }\n",
       "</style>\n",
       "<table border=\"1\" class=\"dataframe\">\n",
       "  <thead>\n",
       "    <tr style=\"text-align: right;\">\n",
       "      <th></th>\n",
       "      <th>address</th>\n",
       "      <th>value_out</th>\n",
       "      <th>value_in</th>\n",
       "      <th>balance</th>\n",
       "      <th>degree</th>\n",
       "      <th>degree_in</th>\n",
       "      <th>degree_out</th>\n",
       "      <th>max_value</th>\n",
       "      <th>min_value</th>\n",
       "      <th>mean_value</th>\n",
       "      <th>...</th>\n",
       "      <th>shapelet1</th>\n",
       "      <th>shapelet2</th>\n",
       "      <th>shapelet3</th>\n",
       "      <th>shapelet4</th>\n",
       "      <th>shapelet5</th>\n",
       "      <th>shapelet6</th>\n",
       "      <th>shapelet7</th>\n",
       "      <th>shapelet8</th>\n",
       "      <th>shapelet9</th>\n",
       "      <th>label</th>\n",
       "    </tr>\n",
       "  </thead>\n",
       "  <tbody>\n",
       "    <tr>\n",
       "      <th>0</th>\n",
       "      <td>0x000000000532b45f47779fce440748893b257865</td>\n",
       "      <td>117.129473</td>\n",
       "      <td>117.132025</td>\n",
       "      <td>-0.002552</td>\n",
       "      <td>23</td>\n",
       "      <td>20</td>\n",
       "      <td>3</td>\n",
       "      <td>39.044000</td>\n",
       "      <td>0.00041</td>\n",
       "      <td>10.185283</td>\n",
       "      <td>...</td>\n",
       "      <td>4744.838139</td>\n",
       "      <td>59900.992617</td>\n",
       "      <td>17180.293251</td>\n",
       "      <td>12895.532023</td>\n",
       "      <td>3276.593597</td>\n",
       "      <td>17857.079201</td>\n",
       "      <td>14238.730042</td>\n",
       "      <td>9108.105658</td>\n",
       "      <td>4516.752005</td>\n",
       "      <td>0</td>\n",
       "    </tr>\n",
       "    <tr>\n",
       "      <th>1</th>\n",
       "      <td>0x00000000072d54638c2c2a3da3f715360269eea1</td>\n",
       "      <td>215.965533</td>\n",
       "      <td>215.193910</td>\n",
       "      <td>0.771623</td>\n",
       "      <td>53</td>\n",
       "      <td>30</td>\n",
       "      <td>23</td>\n",
       "      <td>208.090009</td>\n",
       "      <td>0.00000</td>\n",
       "      <td>8.135084</td>\n",
       "      <td>...</td>\n",
       "      <td>4754.574458</td>\n",
       "      <td>59913.839170</td>\n",
       "      <td>17200.504233</td>\n",
       "      <td>12892.900401</td>\n",
       "      <td>3281.723619</td>\n",
       "      <td>17855.487083</td>\n",
       "      <td>14260.513209</td>\n",
       "      <td>9105.081877</td>\n",
       "      <td>4529.561354</td>\n",
       "      <td>0</td>\n",
       "    </tr>\n",
       "    <tr>\n",
       "      <th>2</th>\n",
       "      <td>0x0000000009324b6434d7766af41908e4c49ee1d7</td>\n",
       "      <td>164.209043</td>\n",
       "      <td>164.214902</td>\n",
       "      <td>-0.005859</td>\n",
       "      <td>15</td>\n",
       "      <td>9</td>\n",
       "      <td>6</td>\n",
       "      <td>100.000000</td>\n",
       "      <td>0.01000</td>\n",
       "      <td>21.894930</td>\n",
       "      <td>...</td>\n",
       "      <td>4753.850414</td>\n",
       "      <td>59910.134961</td>\n",
       "      <td>17190.764349</td>\n",
       "      <td>12907.879881</td>\n",
       "      <td>3291.301421</td>\n",
       "      <td>17864.305793</td>\n",
       "      <td>14246.458843</td>\n",
       "      <td>9112.777630</td>\n",
       "      <td>4521.444630</td>\n",
       "      <td>0</td>\n",
       "    </tr>\n",
       "    <tr>\n",
       "      <th>3</th>\n",
       "      <td>0x0000000086c5d614bec59dfd2c9b88f7cb57f23c</td>\n",
       "      <td>60.502305</td>\n",
       "      <td>50.502914</td>\n",
       "      <td>9.999391</td>\n",
       "      <td>6</td>\n",
       "      <td>5</td>\n",
       "      <td>1</td>\n",
       "      <td>60.502305</td>\n",
       "      <td>5.00000</td>\n",
       "      <td>18.500870</td>\n",
       "      <td>...</td>\n",
       "      <td>4745.700771</td>\n",
       "      <td>59901.873497</td>\n",
       "      <td>17184.660465</td>\n",
       "      <td>12909.079591</td>\n",
       "      <td>3285.307118</td>\n",
       "      <td>17857.883572</td>\n",
       "      <td>14237.974418</td>\n",
       "      <td>9108.328880</td>\n",
       "      <td>4511.163239</td>\n",
       "      <td>0</td>\n",
       "    </tr>\n",
       "    <tr>\n",
       "      <th>4</th>\n",
       "      <td>0x00000000bf02300fd6251627aa3db8933a0eee83</td>\n",
       "      <td>101.761014</td>\n",
       "      <td>81.766424</td>\n",
       "      <td>19.994590</td>\n",
       "      <td>24</td>\n",
       "      <td>20</td>\n",
       "      <td>4</td>\n",
       "      <td>41.477000</td>\n",
       "      <td>0.00229</td>\n",
       "      <td>7.646977</td>\n",
       "      <td>...</td>\n",
       "      <td>4742.450391</td>\n",
       "      <td>59899.671294</td>\n",
       "      <td>17185.622817</td>\n",
       "      <td>12907.192512</td>\n",
       "      <td>3285.781065</td>\n",
       "      <td>17854.807529</td>\n",
       "      <td>14233.516697</td>\n",
       "      <td>9103.064951</td>\n",
       "      <td>4506.851717</td>\n",
       "      <td>0</td>\n",
       "    </tr>\n",
       "  </tbody>\n",
       "</table>\n",
       "<p>5 rows × 37 columns</p>\n",
       "</div>"
      ],
      "text/plain": [
       "                                      address   value_out    value_in  \\\n",
       "0  0x000000000532b45f47779fce440748893b257865  117.129473  117.132025   \n",
       "1  0x00000000072d54638c2c2a3da3f715360269eea1  215.965533  215.193910   \n",
       "2  0x0000000009324b6434d7766af41908e4c49ee1d7  164.209043  164.214902   \n",
       "3  0x0000000086c5d614bec59dfd2c9b88f7cb57f23c   60.502305   50.502914   \n",
       "4  0x00000000bf02300fd6251627aa3db8933a0eee83  101.761014   81.766424   \n",
       "\n",
       "     balance  degree  degree_in  degree_out   max_value  min_value  \\\n",
       "0  -0.002552      23         20           3   39.044000    0.00041   \n",
       "1   0.771623      53         30          23  208.090009    0.00000   \n",
       "2  -0.005859      15          9           6  100.000000    0.01000   \n",
       "3   9.999391       6          5           1   60.502305    5.00000   \n",
       "4  19.994590      24         20           4   41.477000    0.00229   \n",
       "\n",
       "   mean_value  ...    shapelet1     shapelet2     shapelet3     shapelet4  \\\n",
       "0   10.185283  ...  4744.838139  59900.992617  17180.293251  12895.532023   \n",
       "1    8.135084  ...  4754.574458  59913.839170  17200.504233  12892.900401   \n",
       "2   21.894930  ...  4753.850414  59910.134961  17190.764349  12907.879881   \n",
       "3   18.500870  ...  4745.700771  59901.873497  17184.660465  12909.079591   \n",
       "4    7.646977  ...  4742.450391  59899.671294  17185.622817  12907.192512   \n",
       "\n",
       "     shapelet5     shapelet6     shapelet7    shapelet8    shapelet9  label  \n",
       "0  3276.593597  17857.079201  14238.730042  9108.105658  4516.752005      0  \n",
       "1  3281.723619  17855.487083  14260.513209  9105.081877  4529.561354      0  \n",
       "2  3291.301421  17864.305793  14246.458843  9112.777630  4521.444630      0  \n",
       "3  3285.307118  17857.883572  14237.974418  9108.328880  4511.163239      0  \n",
       "4  3285.781065  17854.807529  14233.516697  9103.064951  4506.851717      0  \n",
       "\n",
       "[5 rows x 37 columns]"
      ]
     },
     "execution_count": 2,
     "metadata": {},
     "output_type": "execute_result"
    }
   ],
   "source": [
    "# 读取数据\n",
    "data = pd.read_csv(r'X:\\Datasets\\Blockchain\\xblock.pro\\eth-phishing-detection\\datasets\\etherscan\\ex_2\\features.csv')\n",
    "# 重命名columns 1->shapelet1, 2->shapelet2, ...\n",
    "columns_keys = {str(i): 'shapelet' + str(i) for i in range(10)}\n",
    "data.rename(columns=columns_keys, inplace=True)\n",
    "\n",
    "data = data.fillna(0)\n",
    "\n",
    "data.head()"
   ]
  },
  {
   "cell_type": "code",
   "execution_count": 4,
   "metadata": {},
   "outputs": [],
   "source": [
    "from sklearn.model_selection import train_test_split\n",
    "\n",
    "# 划分数据集\n",
    "X_train, X_test, y_train, y_test = train_test_split(data.drop(['label', 'address'], axis=1), data['label'], test_size=0.2, random_state=0)"
   ]
  },
  {
   "cell_type": "code",
   "execution_count": 6,
   "metadata": {},
   "outputs": [
    {
     "name": "stdout",
     "output_type": "stream",
     "text": [
      "              precision    recall  f1-score   support\n",
      "\n",
      "           0     0.9356    0.9299    0.9328       985\n",
      "           1     0.9175    0.9241    0.9208       830\n",
      "\n",
      "    accuracy                         0.9273      1815\n",
      "   macro avg     0.9266    0.9270    0.9268      1815\n",
      "weighted avg     0.9273    0.9273    0.9273      1815\n",
      "\n"
     ]
    }
   ],
   "source": [
    "# 训练xgboost模型\n",
    "import xgboost\n",
    "\n",
    "model = xgboost.XGBClassifier()\n",
    "\n",
    "model.fit(X_train, y_train)\n",
    "\n",
    "# 预测\n",
    "y_pred = model.predict(X_test)\n",
    "\n",
    "from sklearn.metrics import classification_report\n",
    "\n",
    "print(classification_report(y_test, y_pred, digits=4))"
   ]
  },
  {
   "cell_type": "code",
   "execution_count": 7,
   "metadata": {},
   "outputs": [],
   "source": [
    "\n",
    "base_features = ['balance',\t'degree']\n",
    "graph_features = ['motif1',\t'motif1_00',\t'motif1_01',\t'motif1_10',\t'motif1_11',\t'motif2',\t'motif3',\t'motif1_ratio',\t'motif2_ratio',\t'motif3_ratio',\t'motif1_00_ratio',\t'motif1_01_ratio',\t'motif1_10_ratio',\t'motif1_11_ratio']\n",
    "shapelet_features = ['shapelet' + str(i) for i in range(10)]\n"
   ]
  },
  {
   "cell_type": "code",
   "execution_count": 7,
   "metadata": {},
   "outputs": [
    {
     "name": "stdout",
     "output_type": "stream",
     "text": [
      "              precision    recall  f1-score   support\n",
      "\n",
      "           0     0.8383    0.8893    0.8631       985\n",
      "           1     0.8584    0.7964    0.8263       830\n",
      "\n",
      "    accuracy                         0.8468      1815\n",
      "   macro avg     0.8484    0.8429    0.8447      1815\n",
      "weighted avg     0.8475    0.8468    0.8462      1815\n",
      "\n"
     ]
    }
   ],
   "source": [
    "# 只使用基础特征\n",
    "X_train, X_test, y_train, y_test = train_test_split(data[base_features], data['label'], test_size=0.2, random_state=0)\n",
    "model = xgboost.XGBClassifier()\n",
    "model.fit(X_train, y_train)\n",
    "y_pred = model.predict(X_test)\n",
    "print(classification_report(y_test, y_pred, digits=4))"
   ]
  },
  {
   "cell_type": "code",
   "execution_count": 9,
   "metadata": {},
   "outputs": [
    {
     "name": "stdout",
     "output_type": "stream",
     "text": [
      "              precision    recall  f1-score   support\n",
      "\n",
      "           0     0.8383    0.8893    0.8631       985\n",
      "           1     0.8584    0.7964    0.8263       830\n",
      "\n",
      "    accuracy                         0.8468      1815\n",
      "   macro avg     0.8484    0.8429    0.8447      1815\n",
      "weighted avg     0.8475    0.8468    0.8462      1815\n",
      "\n"
     ]
    }
   ],
   "source": [
    "# 使用base_features\n",
    "X_train, X_test, y_train, y_test = train_test_split(data[base_features], data['label'], test_size=0.2, random_state=0)\n",
    "model = xgboost.XGBClassifier()\n",
    "model.fit(X_train, y_train)\n",
    "y_pred = model.predict(X_test)\n",
    "print(classification_report(y_test, y_pred, digits=4))"
   ]
  },
  {
   "cell_type": "code",
   "execution_count": 10,
   "metadata": {},
   "outputs": [
    {
     "name": "stdout",
     "output_type": "stream",
     "text": [
      "              precision    recall  f1-score   support\n",
      "\n",
      "           0     0.8205    0.7797    0.7996       985\n",
      "           1     0.7531    0.7976    0.7747       830\n",
      "\n",
      "    accuracy                         0.7879      1815\n",
      "   macro avg     0.7868    0.7886    0.7872      1815\n",
      "weighted avg     0.7897    0.7879    0.7882      1815\n",
      "\n"
     ]
    }
   ],
   "source": [
    "# 使用graph_features\n",
    "X_train, X_test, y_train, y_test = train_test_split(data[graph_features], data['label'], test_size=0.2, random_state=0)\n",
    "model = xgboost.XGBClassifier()\n",
    "model.fit(X_train, y_train)\n",
    "y_pred = model.predict(X_test)\n",
    "print(classification_report(y_test, y_pred, digits=4))"
   ]
  },
  {
   "cell_type": "code",
   "execution_count": 11,
   "metadata": {},
   "outputs": [
    {
     "name": "stdout",
     "output_type": "stream",
     "text": [
      "              precision    recall  f1-score   support\n",
      "\n",
      "           0     0.8899    0.8944    0.8922       985\n",
      "           1     0.8739    0.8687    0.8713       830\n",
      "\n",
      "    accuracy                         0.8826      1815\n",
      "   macro avg     0.8819    0.8815    0.8817      1815\n",
      "weighted avg     0.8826    0.8826    0.8826      1815\n",
      "\n"
     ]
    }
   ],
   "source": [
    "# 使用shapelet_features\n",
    "X_train, X_test, y_train, y_test = train_test_split(data[shapelet_features], data['label'], test_size=0.2, random_state=0)\n",
    "model = xgboost.XGBClassifier()\n",
    "model.fit(X_train, y_train)\n",
    "y_pred = model.predict(X_test)\n",
    "print(classification_report(y_test, y_pred, digits=4))"
   ]
  },
  {
   "cell_type": "code",
   "execution_count": 12,
   "metadata": {},
   "outputs": [
    {
     "name": "stdout",
     "output_type": "stream",
     "text": [
      "              precision    recall  f1-score   support\n",
      "\n",
      "           0     0.9253    0.9178    0.9215       985\n",
      "           1     0.9033    0.9120    0.9077       830\n",
      "\n",
      "    accuracy                         0.9152      1815\n",
      "   macro avg     0.9143    0.9149    0.9146      1815\n",
      "weighted avg     0.9152    0.9152    0.9152      1815\n",
      "\n"
     ]
    }
   ],
   "source": [
    "X_train, X_test, y_train, y_test = train_test_split(data[base_features + graph_features + shapelet_features], data['label'], test_size=0.2, random_state=0)\n",
    "model = xgboost.XGBClassifier()\n",
    "model.fit(X_train, y_train)\n",
    "y_pred = model.predict(X_test)\n",
    "print(classification_report(y_test, y_pred, digits=4))"
   ]
  },
  {
   "cell_type": "code",
   "execution_count": 8,
   "metadata": {},
   "outputs": [
    {
     "name": "stdout",
     "output_type": "stream",
     "text": [
      "              precision    recall  f1-score   support\n",
      "\n",
      "           0     0.9147    0.8924    0.9034       985\n",
      "           1     0.8759    0.9012    0.8884       830\n",
      "\n",
      "    accuracy                         0.8964      1815\n",
      "   macro avg     0.8953    0.8968    0.8959      1815\n",
      "weighted avg     0.8969    0.8964    0.8965      1815\n",
      "\n"
     ]
    }
   ],
   "source": [
    "# 使用graph_features + shapelet_features\n",
    "X_train, X_test, y_train, y_test = train_test_split(data[graph_features + shapelet_features], data['label'], test_size=0.2, random_state=0)\n",
    "model = xgboost.XGBClassifier()\n",
    "model.fit(X_train, y_train)\n",
    "y_pred = model.predict(X_test)\n",
    "print(classification_report(y_test, y_pred, digits=4))"
   ]
  },
  {
   "cell_type": "code",
   "execution_count": null,
   "metadata": {},
   "outputs": [],
   "source": []
  }
 ],
 "metadata": {
  "kernelspec": {
   "display_name": "Python 3.8.13 ('blockchain-work')",
   "language": "python",
   "name": "python3"
  },
  "language_info": {
   "codemirror_mode": {
    "name": "ipython",
    "version": 3
   },
   "file_extension": ".py",
   "mimetype": "text/x-python",
   "name": "python",
   "nbconvert_exporter": "python",
   "pygments_lexer": "ipython3",
   "version": "3.8.13"
  },
  "orig_nbformat": 4,
  "vscode": {
   "interpreter": {
    "hash": "c1cba5e5a97c5f7d0d5488a0a811a4b3b7206ad8e3ca955e8a2331ec0040d37d"
   }
  }
 },
 "nbformat": 4,
 "nbformat_minor": 2
}
