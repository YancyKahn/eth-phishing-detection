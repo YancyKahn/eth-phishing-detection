{
 "cells": [
  {
   "cell_type": "code",
   "execution_count": 97,
   "metadata": {},
   "outputs": [],
   "source": [
    "import pandas as pd \n",
    "import os \n",
    "import networkx as nx"
   ]
  },
  {
   "cell_type": "code",
   "execution_count": 98,
   "metadata": {},
   "outputs": [
    {
     "name": "stdout",
     "output_type": "stream",
     "text": [
      "x:\\Datasets\\Blockchain\\xblock.pro\\Phishing\n"
     ]
    }
   ],
   "source": [
    "pwd = os.getcwd()\n",
    "print(pwd)"
   ]
  },
  {
   "cell_type": "code",
   "execution_count": 99,
   "metadata": {},
   "outputs": [],
   "source": [
    "# 使用networkx构建图\n",
    "G = nx.Graph()"
   ]
  },
  {
   "cell_type": "code",
   "execution_count": 100,
   "metadata": {},
   "outputs": [],
   "source": [
    "address = \"0x1fd41f2da3fcd5e61c4a6b70d387e480b6c38dba\"\n",
    "\n",
    "# 一阶节点\n",
    "tx_1d = pd.read_csv(pwd + \"/钓鱼一阶节点/\" + address + \".csv\")\n",
    "node2id = {}\n",
    "id2node = {}\n",
    "\n",
    "for x in range(len(tx_1d)):\n",
    "    item = tx_1d.iloc[x]\n",
    "    if item['From'] not in node2id:\n",
    "        node2id[item['From']] = len(node2id)\n",
    "        id2node[node2id[item['From']]] = item['From']\n",
    "    if item['To'] not in node2id:\n",
    "        node2id[item['To']] = len(node2id)\n",
    "        id2node[node2id[item['To']]] = item['To']\n",
    "\n",
    "# 添加节点\n",
    "center = node2id[address]\n",
    "G.add_node(center, type = 'center')\n",
    "\n",
    "for x in range(len(tx_1d)):\n",
    "    item = tx_1d.iloc[x]\n",
    "    if node2id[item['From']] not in G.nodes:\n",
    "        G.add_node(node2id[item['From']], type = '1d_normal')\n",
    "    if node2id[item['To']] not in G.nodes:\n",
    "        G.add_node(node2id[item['To']], type = '1d_normal')\n",
    "    G.add_edge(node2id[item['From']], node2id[item['To']], weight=item['Value'], type='1d')\n"
   ]
  },
  {
   "cell_type": "code",
   "execution_count": 101,
   "metadata": {},
   "outputs": [
    {
     "data": {
      "image/png": "[encoded data removed]",
      "text/plain": [
       "<Figure size 720x720 with 1 Axes>"
      ]
     },
     "metadata": {},
     "output_type": "display_data"
    }
   ],
   "source": [
    "# tx_1d画图\n",
    "import matplotlib.pyplot as plt\n",
    "\n",
    "plt.figure(figsize=(10, 10))\n",
    "pos = nx.spring_layout(G)\n",
    "# 中心点为红色\n",
    "nx.draw_networkx_nodes(G, pos, nodelist=[center], node_color='r', node_size=100)\n",
    "# 1d_normal为黑色\n",
    "nx.draw_networkx_nodes(G, pos, nodelist=[x for x in G.nodes if G.nodes[x]['type'] == '1d_normal'], node_color='k', node_size=50)\n",
    "# 1d边为蓝色\n",
    "nx.draw_networkx_edges(G, pos, edgelist=[(u, v) for (u, v, d) in G.edges(data=True) if d['type'] == '1d'], width=1, edge_color='b')\n",
    "plt.show()"
   ]
  },
  {
   "cell_type": "code",
   "execution_count": null,
   "metadata": {},
   "outputs": [],
   "source": [
    "# \n",
    "tx_1d['Value'].plot()"
   ]
  },
  {
   "cell_type": "code",
   "execution_count": null,
   "metadata": {},
   "outputs": [],
   "source": [
    "# 二阶节点\n",
    "print(len(os.listdir(pwd + \"/钓鱼二阶节点/\" + address + \"/\")))\n",
    "for filename in os.listdir(pwd + \"/钓鱼二阶节点/\" + address):\n",
    "    data = pd.read_csv(pwd + \"/钓鱼二阶节点/\" + address + \"/\" + filename)\n",
    "    for x in range(len(data)):\n",
    "        item = data.iloc[x]\n",
    "        if item['From'] not in node2id:\n",
    "            node2id[item['From']] = len(node2id)\n",
    "            id2node[node2id[item['From']]] = item['From']\n",
    "        if item['To'] not in node2id:\n",
    "            node2id[item['To']] = len(node2id)\n",
    "            id2node[node2id[item['To']]] = item['To']\n",
    "    \n",
    "    # 添加节点\n",
    "    for x in range(len(data)):\n",
    "        item = data.iloc[x]\n",
    "        if node2id[item['From']] not in G.nodes:\n",
    "            G.add_node(node2id[item['From']], type = '2d_normal')\n",
    "        if node2id[item['To']] not in G.nodes:\n",
    "            G.add_node(node2id[item['To']], type = '2d_normal')\n",
    "        G.add_edge(node2id[item['From']], node2id[item['To']], weight=item['Value'], type='2d')\n",
    "    "
   ]
  },
  {
   "cell_type": "code",
   "execution_count": null,
   "metadata": {},
   "outputs": [],
   "source": [
    "# 画图\n",
    "import matplotlib.pyplot as plt\n",
    "\n",
    "plt.figure(figsize=(20, 20))\n",
    "center = node2id[address]\n",
    "pos = nx.spring_layout(G)\n",
    "# 中心点为红色\n",
    "nx.draw_networkx_nodes(G, pos, nodelist=[center], node_color='r', node_size=100)\n",
    "# 1d_normal为黑色\n",
    "nx.draw_networkx_nodes(G, pos, nodelist=[x for x in G.nodes if G.nodes[x]['type'] == '1d_normal'], node_color='k', node_size=50)\n",
    "# 2d_normal为紫色\n",
    "nx.draw_networkx_nodes(G, pos, nodelist=[x for x in G.nodes if G.nodes[x]['type'] == '2d_normal'], node_color='purple', node_size=50)\n",
    "# 1d边为蓝色\n",
    "nx.draw_networkx_edges(G, pos, edgelist=[(u, v) for (u, v, d) in G.edges(data=True) if d['type'] == '1d'], width=1, edge_color='b')\n",
    "# 2d边为绿色\n",
    "nx.draw_networkx_edges(G, pos, edgelist=[(u, v) for (u, v, d) in G.edges(data=True) if d['type'] != '1d'], width=1, edge_color='g')\n",
    "\n",
    "plt.show()"
   ]
  },
  {
   "cell_type": "code",
   "execution_count": null,
   "metadata": {},
   "outputs": [],
   "source": []
  }
 ],
 "metadata": {
  "kernelspec": {
   "display_name": "Python 3.9.12 ('base')",
   "language": "python",
   "name": "python3"
  },
  "language_info": {
   "codemirror_mode": {
    "name": "ipython",
    "version": 3
   },
   "file_extension": ".py",
   "mimetype": "text/x-python",
   "name": "python",
   "nbconvert_exporter": "python",
   "pygments_lexer": "ipython3",
   "version": "3.9.12"
  },
  "orig_nbformat": 4,
  "vscode": {
   "interpreter": {
    "hash": "974733804d668d3057bb8fd4c530c0513fe1498e5c89d4dcb2a8e567590995c4"
   }
  }
 },
 "nbformat": 4,
 "nbformat_minor": 2
}
